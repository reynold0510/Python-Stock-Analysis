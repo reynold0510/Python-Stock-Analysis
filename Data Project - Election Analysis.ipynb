








<!DOCTYPE html>
<html lang="en">

<head>
  <meta charset="utf-8">
  <title>Jupyter Notebook Viewer</title>
  <meta name="viewport" content="width=device-width, initial-scale=1.0">
  <meta name="description" content="">
  <meta name="author" content="">
  
  <meta name="robots" content="noindex,nofollow">
  

  <!--NEW RELIC Start Perf Measurement-->
  
  <!--NREND-->

  <!-- Le styles -->
  <script type="text/javascript">
//<![CDATA[
try{if (!window.CloudFlare) {var CloudFlare=[{verbose:0,p:0,byc:0,owlid:"cf",bag2:1,mirage2:0,oracle:0,paths:{cloudflare:"/cdn-cgi/nexp/dok3v=1613a3a185/"},atok:"315da618764bd53ac486679fdf5209c4",petok:"08beb7e1764831b8a97b4943eb1a9bd4a17a9dfe-1486349540-1800",zone:"jupyter.org",rocket:"0",apps:{"ga_key":{"ua":"UA-52617120-5","ga_bs":"2"}}}];!function(a,b){a=document.createElement("script"),b=document.getElementsByTagName("script")[0],a.async=!0,a.src="//ajax.cloudflare.com/cdn-cgi/nexp/dok3v=f2befc48d1/cloudflare.min.js",b.parentNode.insertBefore(a,b)}()}}catch(e){};
//]]>
</script>
<link href="/static/build/styles.css?v=c18d49652a516277e15114bbd447f1c1" rel="stylesheet">

  <!-- Le HTML5 shim, for IE6-8 support of HTML5 elements -->
  <!--[if lt IE 9]>
    <script src="http://html5shim.googlecode.com/svn/trunk/html5.js"></script>
  <![endif]-->

  <!-- Le fav and touch icons -->
  <link rel="shortcut icon" href="/static/ico/ipynb_icon_16x16.png">
  <link rel="apple-touch-icon-precomposed" sizes="144x144"
        href="/static/ico/apple-touch-icon-144-precomposed.png?v=5a3c9ede93e2a8b8ea9e3f8f3da1a905">
  <link rel="apple-touch-icon-precomposed" sizes="114x114"
        href="/static/ico/apple-touch-icon-114-precomposed.png?v=45d86fc8f24dc00638035e1dd7a6d898">
  <link rel="apple-touch-icon-precomposed" sizes="72x72"
        href="/static/ico/apple-touch-icon-72-precomposed.png?v=540b5eb0f3cfd25f1439d1c9bd30e15f">
  <link rel="apple-touch-icon-precomposed"
        href="/static/ico/apple-touch-icon-57-precomposed.png?v=225f0590e187e1458625654f10a28f56">
  
  

  

  
  <meta name="twitter:card" content="summary">
  <meta name="twitter:title" content="Notebook on nbviewer">
  <meta name="twitter:description" content="Check out this Jupyter notebook!">

  
  <meta name="twitter:domain" content="nbviewer.ipython.org">
  <meta name="twitter:image:src" content="http://ipython.org/ipython-doc/dev/_images/ipynb_icon_128x128.png">

  
    <link href="/static/build/notebook.css?v=f5b9901b9b1ce080900a843637976afe" rel="stylesheet">
  

  

  
    <script src="https://cdn.mathjax.org/mathjax/latest/MathJax.js?config=TeX-AMS_HTML" type="text/javascript">
    </script>
    <script type="text/javascript">
      init_mathjax = function() {
        if (window.MathJax) {
          // MathJax loaded
          MathJax.Hub.Config({
            TeX: {
              equationNumbers: {
                autoNumber: "AMS",
                useLabelIds: true
              }
            },
            tex2jax: {
              inlineMath: [ ['$','$'], ["\\(","\\)"] ],
              displayMath: [ ['$$','$$'], ["\\[","\\]"] ],
              processEscapes: true,
              processEnvironments: true
            },
            displayAlign: 'center',
            "HTML-CSS": {
              styles: {'.MathJax_Display': {"margin": 0}},
              linebreaks: { automatic: true }
            }
          });
          MathJax.Hub.Queue(["Typeset", MathJax.Hub]);
        }
      }
      init_mathjax();
    </script>
  

<script type="text/javascript">
/* <![CDATA[ */
var _gaq = _gaq || [];
_gaq.push(['_setAccount', 'UA-52617120-5']);
_gaq.push(['_trackPageview']);

(function() {
var ga = document.createElement('script'); ga.type = 'text/javascript'; ga.async = true;
ga.src = ('https:' == document.location.protocol ? 'https://ssl' : 'http://www') + '.google-analytics.com/ga.js';
var s = document.getElementsByTagName('script')[0]; s.parentNode.insertBefore(ga, s);
})();

(function(b){(function(a){"__CF"in b&&"DJS"in b.__CF?b.__CF.DJS.push(a):"addEventListener"in b?b.addEventListener("load",a,!1):b.attachEvent("onload",a)})(function(){"FB"in b&&"Event"in FB&&"subscribe"in FB.Event&&(FB.Event.subscribe("edge.create",function(a){_gaq.push(["_trackSocial","facebook","like",a])}),FB.Event.subscribe("edge.remove",function(a){_gaq.push(["_trackSocial","facebook","unlike",a])}),FB.Event.subscribe("message.send",function(a){_gaq.push(["_trackSocial","facebook","send",a])}));"twttr"in b&&"events"in twttr&&"bind"in twttr.events&&twttr.events.bind("tweet",function(a){if(a){var b;if(a.target&&a.target.nodeName=="IFRAME")a:{if(a=a.target.src){a=a.split("#")[0].match(/[^?=&]+=([^&]*)?/g);b=0;for(var c;c=a[b];++b)if(c.indexOf("url")===0){b=unescape(c.split("=")[1]);break a}}b=void 0}_gaq.push(["_trackSocial","twitter","tweet",b])}})})})(window);
/* ]]> */
</script>
</head>

<body class="nbviewer">

  <!-- These are loaded at the top of the body so they are available to
       notebook cells when they are loaded below. -->
  <script src="/static/components/jquery/dist/jquery.min.js?v=e071abda8fe61194711cfc2ab99fe104"></script>
  <script src="/static/components/requirejs/require.js?v=6da8be361b9ee26c5e721e76c6d4afce"></script>
  <script src="/static/components/moment/min/moment.min.js?v=89f87298ad94aa1e6b92f42eb66da043"></script>

<!-- Navbar
================================================== -->
  <nav id="menubar" class="navbar navbar-default navbar-fixed-top" data-spy="affix">
    <div class="container">
      <div class="navbar-header">
        <button type="button" class="navbar-toggle collapsed" data-toggle="collapse" data-target=".navbar-collapse">
          <span class="sr-only">Toggle navigation</span>
          <i class="fa fa-bars"></i>
        </button>
        <a class="navbar-brand" href="/">
          <img src="/static/img/nav_logo.svg?v=479cefe8d932fb14a67b93911b97d70f" width="159"/>
        </a>
      </div>

      <div class="collapse navbar-collapse">
        <ul class="nav navbar-nav navbar-right">
          <li>
            <a class="active" href="http://jupyter.org">JUPYTER</a>
          </li>
          <li>
    <a href="/faq" title="FAQ" >
      
        <span>FAQ</span>
      
    </a>
  </li>

          
  
    
      
        <li>
    <a href="/format/script/github/jmportilla/Udemy-notes/blob/master/Data%20Project%20-%20Election%20Analysis.ipynb" title="View as Code" >
      <span class="fa fa- fa-2x menu-icon"></span>
      <span class="menu-text">View as Code</span>
    </a>
  </li>
      
    
  
    
  

  
    <li>
    <a href="#" title="Python 2 Kernel" >
      <span class="fa fa-server fa-2x menu-icon"></span>
      <span class="menu-text">Python 2 Kernel</span>
    </a>
  </li>
  

  
    <li>
    <a href="https://github.com/jmportilla/Udemy-notes/blob/master/Data%20Project%20-%20Election%20Analysis.ipynb" title="View on GitHub" >
      <span class="fa fa-github fa-2x menu-icon"></span>
      <span class="menu-text">View on GitHub</span>
    </a>
  </li>
  

  <li>
    <a href="https://raw.githubusercontent.com/jmportilla/Udemy-notes/master/Data%20Project%20-%20Election%20Analysis.ipynb" title="Download Notebook" download>
      <span class="fa fa-download fa-2x menu-icon"></span>
      <span class="menu-text">Download Notebook</span>
    </a>
  </li>

        </ul>
      </div><!-- /.navbar-collapse -->
      
      
    </div>
  </nav>

  <div class="container container-main">
    
  
  <ol class="breadcrumb">
    
      <li>
        <a href="/github/jmportilla/Udemy-notes/tree/master">Udemy-notes</a>
      </li>
    
      <li>
        <a href="/github/jmportilla/Udemy-notes/tree/master/Data Project - Election Analysis.ipynb">Data Project - Election Analysis.ipynb</a>
      </li>
    
  </ol>
  
  <div id="notebook">
    <div id="notebook-container">
      
<div class="cell border-box-sizing text_cell rendered">
<div class="prompt input_prompt">
</div>
<div class="inner_cell">
<div class="text_cell_render border-box-sizing rendered_html">
<h1 id="Election-Data-Project---Polls-and-Donors">Election Data Project - Polls and Donors<a class="anchor-link" href="#Election-Data-Project---Polls-and-Donors">&#182;</a></h1><p>In this Data Project we will be looking at data from the 2012 election.</p>
<p>In this project we will analyze two datasets. The first data set will be the results of political polls. We will analyze this aggregated poll data and answer some questions:</p>

<pre><code>1.) Who was being polled and what was their party affiliation?
2.) Did the poll results favor Romney or Obama?
3.) How do undecided voters effect the poll?
4.) Can we account for the undecided voters?
5.) How did voter sentiment change over time?
6.) Can we see an effect in the polls from the debates?

</code></pre>
<p>We'll discuss the second data set later on!</p>

</div>
</div>
</div>
<div class="cell border-box-sizing text_cell rendered">
<div class="prompt input_prompt">
</div>
<div class="inner_cell">
<div class="text_cell_render border-box-sizing rendered_html">
<p>Let's go ahead and start with our standard imports:</p>

</div>
</div>
</div>
<div class="cell border-box-sizing code_cell rendered">
<div class="input">
<div class="prompt input_prompt">In&nbsp;[604]:</div>
<div class="inner_cell">
    <div class="input_area">
<div class=" highlight hl-ipython2"><pre><span></span><span class="c1"># For data</span>
<span class="kn">import</span> <span class="nn">pandas</span> <span class="kn">as</span> <span class="nn">pd</span>
<span class="kn">from</span> <span class="nn">pandas</span> <span class="kn">import</span> <span class="n">Series</span><span class="p">,</span><span class="n">DataFrame</span>
<span class="kn">import</span> <span class="nn">numpy</span> <span class="kn">as</span> <span class="nn">np</span>

<span class="c1"># For visualization</span>
<span class="kn">import</span> <span class="nn">matplotlib.pyplot</span> <span class="kn">as</span> <span class="nn">plt</span>
<span class="kn">import</span> <span class="nn">seaborn</span> <span class="kn">as</span> <span class="nn">sns</span>
<span class="n">sns</span><span class="o">.</span><span class="n">set_style</span><span class="p">(</span><span class="s1">&#39;whitegrid&#39;</span><span class="p">)</span>
<span class="o">%</span><span class="k">matplotlib</span> inline

<span class="kn">from</span> <span class="nn">__future__</span> <span class="kn">import</span> <span class="n">division</span>
</pre></div>

</div>
</div>
</div>

</div>
<div class="cell border-box-sizing text_cell rendered">
<div class="prompt input_prompt">
</div>
<div class="inner_cell">
<div class="text_cell_render border-box-sizing rendered_html">
<p>The data for the polls will be obtained from HuffPost Pollster. You can check their website <a href="http://elections.huffingtonpost.com/pollster">here</a>. There are some pretty awesome politcal data stes to play with there so I encourage you to go and mess around with it yourself after completing this project.</p>

</div>
</div>
</div>
<div class="cell border-box-sizing text_cell rendered">
<div class="prompt input_prompt">
</div>
<div class="inner_cell">
<div class="text_cell_render border-box-sizing rendered_html">
<p>We're going to use the requests module to import some data from the web. For more information on requests, check out the documentation <a href="http://docs.python-requests.org/en/latest/">here</a>.</p>
<p>We will also be using StringIO to work with csv data we get from HuffPost. StringIO provides a convenient means of working with text in memory using the file API, find out more about it <a href="http://pymotw.com/2/StringIO/">here</a></p>

</div>
</div>
</div>
<div class="cell border-box-sizing code_cell rendered">
<div class="input">
<div class="prompt input_prompt">In&nbsp;[605]:</div>
<div class="inner_cell">
    <div class="input_area">
<div class=" highlight hl-ipython2"><pre><span></span><span class="c1"># Use to grab data from the web(HTTP capabilities)</span>
<span class="kn">import</span> <span class="nn">requests</span>

<span class="c1"># We&#39;ll also use StringIO to work with the csv file, the DataFrame will require a .read() method</span>
<span class="kn">from</span> <span class="nn">StringIO</span> <span class="kn">import</span> <span class="n">StringIO</span>
</pre></div>

</div>
</div>
</div>

</div>
<div class="cell border-box-sizing code_cell rendered">
<div class="input">
<div class="prompt input_prompt">In&nbsp;[606]:</div>
<div class="inner_cell">
    <div class="input_area">
<div class=" highlight hl-ipython2"><pre><span></span><span class="c1"># This is the url link for the poll data in csv form</span>
<span class="n">url</span> <span class="o">=</span> <span class="s2">&quot;http://elections.huffingtonpost.com/pollster/2012-general-election-romney-vs-obama.csv&quot;</span>

<span class="c1"># Use requests to get the information in text form</span>
<span class="n">source</span> <span class="o">=</span> <span class="n">requests</span><span class="o">.</span><span class="n">get</span><span class="p">(</span><span class="n">url</span><span class="p">)</span><span class="o">.</span><span class="n">text</span>

<span class="c1"># Use StringIO to avoid an IO error with pandas</span>
<span class="n">poll_data</span> <span class="o">=</span> <span class="n">StringIO</span><span class="p">(</span><span class="n">source</span><span class="p">)</span> 
</pre></div>

</div>
</div>
</div>

</div>
<div class="cell border-box-sizing text_cell rendered">
<div class="prompt input_prompt">
</div>
<div class="inner_cell">
<div class="text_cell_render border-box-sizing rendered_html">
<p>Now that we have our data, we can set it as a DataFrame.</p>

</div>
</div>
</div>
<div class="cell border-box-sizing code_cell rendered">
<div class="input">
<div class="prompt input_prompt">In&nbsp;[607]:</div>
<div class="inner_cell">
    <div class="input_area">
<div class=" highlight hl-ipython2"><pre><span></span><span class="c1"># Set poll data as pandas DataFrame</span>
<span class="n">poll_df</span> <span class="o">=</span> <span class="n">pd</span><span class="o">.</span><span class="n">read_csv</span><span class="p">(</span><span class="n">poll_data</span><span class="p">)</span>

<span class="c1"># Let&#39;s get a glimpse at the data</span>
<span class="n">poll_df</span><span class="o">.</span><span class="n">info</span><span class="p">()</span>
</pre></div>

</div>
</div>
</div>

<div class="output_wrapper">
<div class="output">


<div class="output_area"><div class="prompt"></div>
<div class="output_subarea output_stream output_stdout output_text">
<pre>&lt;class &#39;pandas.core.frame.DataFrame&#39;&gt;
Int64Index: 589 entries, 0 to 588
Data columns (total 14 columns):
Pollster                  589 non-null object
Start Date                589 non-null object
End Date                  589 non-null object
Entry Date/Time (ET)      589 non-null object
Number of Observations    567 non-null float64
Population                589 non-null object
Mode                      589 non-null object
Obama                     589 non-null int64
Romney                    589 non-null int64
Undecided                 422 non-null float64
Pollster URL              589 non-null object
Source URL                587 non-null object
Partisan                  589 non-null object
Affiliation               589 non-null object
dtypes: float64(2), int64(2), object(10)
memory usage: 69.0+ KB
</pre>
</div>
</div>

</div>
</div>

</div>
<div class="cell border-box-sizing text_cell rendered">
<div class="prompt input_prompt">
</div>
<div class="inner_cell">
<div class="text_cell_render border-box-sizing rendered_html">
<p>Great! Now let's get a quick look with .head()</p>

</div>
</div>
</div>
<div class="cell border-box-sizing code_cell rendered">
<div class="input">
<div class="prompt input_prompt">In&nbsp;[608]:</div>
<div class="inner_cell">
    <div class="input_area">
<div class=" highlight hl-ipython2"><pre><span></span><span class="c1"># Preview DataFrame</span>
<span class="n">poll_df</span><span class="o">.</span><span class="n">head</span><span class="p">()</span>
</pre></div>

</div>
</div>
</div>

<div class="output_wrapper">
<div class="output">


<div class="output_area"><div class="prompt output_prompt">Out[608]:</div>

<div class="output_html rendered_html output_subarea output_execute_result">
<div style="max-height:1000px;max-width:1500px;overflow:auto;">
<table border="1" class="dataframe">
  <thead>
    <tr style="text-align: right;">
      <th></th>
      <th>Pollster</th>
      <th>Start Date</th>
      <th>End Date</th>
      <th>Entry Date/Time (ET)</th>
      <th>Number of Observations</th>
      <th>Population</th>
      <th>Mode</th>
      <th>Obama</th>
      <th>Romney</th>
      <th>Undecided</th>
      <th>Pollster URL</th>
      <th>Source URL</th>
      <th>Partisan</th>
      <th>Affiliation</th>
    </tr>
  </thead>
  <tbody>
    <tr>
      <th>0</th>
      <td> Politico/GWU/Battleground</td>
      <td> 2012-11-04</td>
      <td> 2012-11-05</td>
      <td> 2012-11-06 2000-01-01 08:40:26 UTC</td>
      <td> 1000</td>
      <td> Likely Voters</td>
      <td>      Live Phone</td>
      <td> 47</td>
      <td> 47</td>
      <td>  6</td>
      <td> http://elections.huffingtonpost.com/pollster/p...</td>
      <td> http://www.politico.com/news/stories/1112/8338...</td>
      <td> Nonpartisan</td>
      <td> None</td>
    </tr>
    <tr>
      <th>1</th>
      <td>                UPI/CVOTER</td>
      <td> 2012-11-03</td>
      <td> 2012-11-05</td>
      <td> 2012-11-05 2000-01-01 18:30:15 UTC</td>
      <td> 3000</td>
      <td> Likely Voters</td>
      <td>      Live Phone</td>
      <td> 49</td>
      <td> 48</td>
      <td>NaN</td>
      <td> http://elections.huffingtonpost.com/pollster/p...</td>
      <td>                                               NaN</td>
      <td> Nonpartisan</td>
      <td> None</td>
    </tr>
    <tr>
      <th>2</th>
      <td>          Gravis Marketing</td>
      <td> 2012-11-03</td>
      <td> 2012-11-05</td>
      <td> 2012-11-06 2000-01-01 09:22:02 UTC</td>
      <td>  872</td>
      <td> Likely Voters</td>
      <td> Automated Phone</td>
      <td> 48</td>
      <td> 48</td>
      <td>  4</td>
      <td> http://elections.huffingtonpost.com/pollster/p...</td>
      <td> http://www.gravispolls.com/2012/11/gravis-mark...</td>
      <td> Nonpartisan</td>
      <td> None</td>
    </tr>
    <tr>
      <th>3</th>
      <td>      JZ Analytics/Newsmax</td>
      <td> 2012-11-03</td>
      <td> 2012-11-05</td>
      <td> 2012-11-06 2000-01-01 07:38:41 UTC</td>
      <td> 1041</td>
      <td> Likely Voters</td>
      <td>        Internet</td>
      <td> 47</td>
      <td> 47</td>
      <td>  6</td>
      <td> http://elections.huffingtonpost.com/pollster/p...</td>
      <td>                       http://www.jzanalytics.com/</td>
      <td>     Sponsor</td>
      <td>  Rep</td>
    </tr>
    <tr>
      <th>4</th>
      <td>                 Rasmussen</td>
      <td> 2012-11-03</td>
      <td> 2012-11-05</td>
      <td> 2012-11-06 2000-01-01 08:47:50 UTC</td>
      <td> 1500</td>
      <td> Likely Voters</td>
      <td> Automated Phone</td>
      <td> 48</td>
      <td> 49</td>
      <td>NaN</td>
      <td> http://elections.huffingtonpost.com/pollster/p...</td>
      <td> http://www.rasmussenreports.com/public_content...</td>
      <td> Nonpartisan</td>
      <td> None</td>
    </tr>
  </tbody>
</table>
</div>
</div>

</div>

</div>
</div>

</div>
<div class="cell border-box-sizing text_cell rendered">
<div class="prompt input_prompt">
</div>
<div class="inner_cell">
<div class="text_cell_render border-box-sizing rendered_html">
<p>Let's go ahead and get a quick visualization overview of the affiliation for the polls.</p>

</div>
</div>
</div>
<div class="cell border-box-sizing code_cell rendered">
<div class="input">
<div class="prompt input_prompt">In&nbsp;[609]:</div>
<div class="inner_cell">
    <div class="input_area">
<div class=" highlight hl-ipython2"><pre><span></span><span class="c1"># Factorplot the affiliation</span>
<span class="n">sns</span><span class="o">.</span><span class="n">factorplot</span><span class="p">(</span><span class="s1">&#39;Affiliation&#39;</span><span class="p">,</span><span class="n">data</span><span class="o">=</span><span class="n">poll_df</span><span class="p">)</span>
</pre></div>

</div>
</div>
</div>

<div class="output_wrapper">
<div class="output">


<div class="output_area"><div class="prompt output_prompt">Out[609]:</div>


<div class="output_text output_subarea output_execute_result">
<pre>&lt;seaborn.axisgrid.FacetGrid at 0xb9bd37b8&gt;</pre>
</div>

</div>

<div class="output_area"><div class="prompt"></div>


<div class="output_png output_subarea ">
<img src="data:image/png;base64,iVBORw0KGgoAAAANSUhEUgAAAWEAAAFhCAYAAACh/xvXAAAABHNCSVQICAgIfAhkiAAAAAlwSFlz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"
>
</div>

</div>

</div>
</div>

</div>
<div class="cell border-box-sizing text_cell rendered">
<div class="prompt input_prompt">
</div>
<div class="inner_cell">
<div class="text_cell_render border-box-sizing rendered_html">
<p>Looks like we are overall relatively neutral, but still leaning towards Democratic Affiliation, it will be good to keep this in mind. Let's see if sorting by the Population hue gives us any further insight into the data.</p>

</div>
</div>
</div>
<div class="cell border-box-sizing code_cell rendered">
<div class="input">
<div class="prompt input_prompt">In&nbsp;[610]:</div>
<div class="inner_cell">
    <div class="input_area">
<div class=" highlight hl-ipython2"><pre><span></span><span class="c1"># Factorplot the affiliation by Population</span>
<span class="n">sns</span><span class="o">.</span><span class="n">factorplot</span><span class="p">(</span><span class="s1">&#39;Affiliation&#39;</span><span class="p">,</span><span class="n">data</span><span class="o">=</span><span class="n">poll_df</span><span class="p">,</span><span class="n">hue</span><span class="o">=</span><span class="s1">&#39;Population&#39;</span><span class="p">)</span>
</pre></div>

</div>
</div>
</div>

<div class="output_wrapper">
<div class="output">


<div class="output_area"><div class="prompt output_prompt">Out[610]:</div>


<div class="output_text output_subarea output_execute_result">
<pre>&lt;seaborn.axisgrid.FacetGrid at 0xcbc90fd0&gt;</pre>
</div>

</div>

<div class="output_area"><div class="prompt"></div>


<div class="output_png output_subarea ">
<img src="data:image/png;base64,iVBORw0KGgoAAAANSUhEUgAAAeoAAAFhCAYAAAC/GukhAAAABHNCSVQICAgIfAhkiAAAAAlwSFlz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"
>
</div>

</div>

</div>
</div>

</div>
<div class="cell border-box-sizing text_cell rendered">
<div class="prompt input_prompt">
</div>
<div class="inner_cell">
<div class="text_cell_render border-box-sizing rendered_html">
<p>Looks like we have a strong showing of likely voters and Registered Voters, so the poll data should hopefully be a good reflection on the populations polled. Let's take another quick overview of the DataFrame.</p>

</div>
</div>
</div>
<div class="cell border-box-sizing code_cell rendered">
<div class="input">
<div class="prompt input_prompt">In&nbsp;[611]:</div>
<div class="inner_cell">
    <div class="input_area">
<div class=" highlight hl-ipython2"><pre><span></span><span class="c1"># Let&#39;s look at the DataFrame again</span>
<span class="n">poll_df</span><span class="o">.</span><span class="n">head</span><span class="p">()</span>
</pre></div>

</div>
</div>
</div>

<div class="output_wrapper">
<div class="output">


<div class="output_area"><div class="prompt output_prompt">Out[611]:</div>

<div class="output_html rendered_html output_subarea output_execute_result">
<div style="max-height:1000px;max-width:1500px;overflow:auto;">
<table border="1" class="dataframe">
  <thead>
    <tr style="text-align: right;">
      <th></th>
      <th>Pollster</th>
      <th>Start Date</th>
      <th>End Date</th>
      <th>Entry Date/Time (ET)</th>
      <th>Number of Observations</th>
      <th>Population</th>
      <th>Mode</th>
      <th>Obama</th>
      <th>Romney</th>
      <th>Undecided</th>
      <th>Pollster URL</th>
      <th>Source URL</th>
      <th>Partisan</th>
      <th>Affiliation</th>
    </tr>
  </thead>
  <tbody>
    <tr>
      <th>0</th>
      <td> Politico/GWU/Battleground</td>
      <td> 2012-11-04</td>
      <td> 2012-11-05</td>
      <td> 2012-11-06 2000-01-01 08:40:26 UTC</td>
      <td> 1000</td>
      <td> Likely Voters</td>
      <td>      Live Phone</td>
      <td> 47</td>
      <td> 47</td>
      <td>  6</td>
      <td> http://elections.huffingtonpost.com/pollster/p...</td>
      <td> http://www.politico.com/news/stories/1112/8338...</td>
      <td> Nonpartisan</td>
      <td> None</td>
    </tr>
    <tr>
      <th>1</th>
      <td>                UPI/CVOTER</td>
      <td> 2012-11-03</td>
      <td> 2012-11-05</td>
      <td> 2012-11-05 2000-01-01 18:30:15 UTC</td>
      <td> 3000</td>
      <td> Likely Voters</td>
      <td>      Live Phone</td>
      <td> 49</td>
      <td> 48</td>
      <td>NaN</td>
      <td> http://elections.huffingtonpost.com/pollster/p...</td>
      <td>                                               NaN</td>
      <td> Nonpartisan</td>
      <td> None</td>
    </tr>
    <tr>
      <th>2</th>
      <td>          Gravis Marketing</td>
      <td> 2012-11-03</td>
      <td> 2012-11-05</td>
      <td> 2012-11-06 2000-01-01 09:22:02 UTC</td>
      <td>  872</td>
      <td> Likely Voters</td>
      <td> Automated Phone</td>
      <td> 48</td>
      <td> 48</td>
      <td>  4</td>
      <td> http://elections.huffingtonpost.com/pollster/p...</td>
      <td> http://www.gravispolls.com/2012/11/gravis-mark...</td>
      <td> Nonpartisan</td>
      <td> None</td>
    </tr>
    <tr>
      <th>3</th>
      <td>      JZ Analytics/Newsmax</td>
      <td> 2012-11-03</td>
      <td> 2012-11-05</td>
      <td> 2012-11-06 2000-01-01 07:38:41 UTC</td>
      <td> 1041</td>
      <td> Likely Voters</td>
      <td>        Internet</td>
      <td> 47</td>
      <td> 47</td>
      <td>  6</td>
      <td> http://elections.huffingtonpost.com/pollster/p...</td>
      <td>                       http://www.jzanalytics.com/</td>
      <td>     Sponsor</td>
      <td>  Rep</td>
    </tr>
    <tr>
      <th>4</th>
      <td>                 Rasmussen</td>
      <td> 2012-11-03</td>
      <td> 2012-11-05</td>
      <td> 2012-11-06 2000-01-01 08:47:50 UTC</td>
      <td> 1500</td>
      <td> Likely Voters</td>
      <td> Automated Phone</td>
      <td> 48</td>
      <td> 49</td>
      <td>NaN</td>
      <td> http://elections.huffingtonpost.com/pollster/p...</td>
      <td> http://www.rasmussenreports.com/public_content...</td>
      <td> Nonpartisan</td>
      <td> None</td>
    </tr>
  </tbody>
</table>
</div>
</div>

</div>

</div>
</div>

</div>
<div class="cell border-box-sizing text_cell rendered">
<div class="prompt input_prompt">
</div>
<div class="inner_cell">
<div class="text_cell_render border-box-sizing rendered_html">
<p>Let's go ahead and take a look at the averages for Obama, Romney , and the polled people who remained undecided.</p>

</div>
</div>
</div>
<div class="cell border-box-sizing code_cell rendered">
<div class="input">
<div class="prompt input_prompt">In&nbsp;[612]:</div>
<div class="inner_cell">
    <div class="input_area">
<div class=" highlight hl-ipython2"><pre><span></span><span class="c1"># First we&#39;ll get the average</span>
<span class="n">avg</span> <span class="o">=</span> <span class="n">pd</span><span class="o">.</span><span class="n">DataFrame</span><span class="p">(</span><span class="n">poll_df</span><span class="o">.</span><span class="n">mean</span><span class="p">())</span> 
<span class="n">avg</span><span class="o">.</span><span class="n">drop</span><span class="p">(</span><span class="s1">&#39;Number of Observations&#39;</span><span class="p">,</span><span class="n">axis</span><span class="o">=</span><span class="mi">0</span><span class="p">,</span><span class="n">inplace</span><span class="o">=</span><span class="bp">True</span><span class="p">)</span>

<span class="c1"># After that let&#39;s get the error</span>
<span class="n">std</span> <span class="o">=</span> <span class="n">pd</span><span class="o">.</span><span class="n">DataFrame</span><span class="p">(</span><span class="n">poll_df</span><span class="o">.</span><span class="n">std</span><span class="p">())</span>
<span class="n">std</span><span class="o">.</span><span class="n">drop</span><span class="p">(</span><span class="s1">&#39;Number of Observations&#39;</span><span class="p">,</span><span class="n">axis</span><span class="o">=</span><span class="mi">0</span><span class="p">,</span><span class="n">inplace</span><span class="o">=</span><span class="bp">True</span><span class="p">)</span>

<span class="c1"># now plot using pandas built-in plot, with kind=&#39;bar&#39; and yerr=&#39;std&#39;</span>
<span class="n">avg</span><span class="o">.</span><span class="n">plot</span><span class="p">(</span><span class="n">yerr</span><span class="o">=</span><span class="n">std</span><span class="p">,</span><span class="n">kind</span><span class="o">=</span><span class="s1">&#39;bar&#39;</span><span class="p">,</span><span class="n">legend</span><span class="o">=</span><span class="bp">False</span><span class="p">)</span>
</pre></div>

</div>
</div>
</div>

<div class="output_wrapper">
<div class="output">


<div class="output_area"><div class="prompt output_prompt">Out[612]:</div>


<div class="output_text output_subarea output_execute_result">
<pre>&lt;matplotlib.axes._subplots.AxesSubplot at 0x3a3a6898&gt;</pre>
</div>

</div>

<div class="output_area"><div class="prompt"></div>


<div class="output_png output_subarea ">
<img src="data:image/png;base64,iVBORw0KGgoAAAANSUhEUgAAAW4AAAEnCAYAAACJ9akrAAAABHNCSVQICAgIfAhkiAAAAAlwSFlz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"
>
</div>

</div>

</div>
</div>

</div>
<div class="cell border-box-sizing text_cell rendered">
<div class="prompt input_prompt">
</div>
<div class="inner_cell">
<div class="text_cell_render border-box-sizing rendered_html">
<p>Interesting to see how close these polls seem to be, especially considering the undecided factor. Let's take a look at the numbers.</p>

</div>
</div>
</div>
<div class="cell border-box-sizing code_cell rendered">
<div class="input">
<div class="prompt input_prompt">In&nbsp;[613]:</div>
<div class="inner_cell">
    <div class="input_area">
<div class=" highlight hl-ipython2"><pre><span></span><span class="c1"># Concatenate our Average and Std DataFrames</span>
<span class="n">poll_avg</span> <span class="o">=</span> <span class="n">pd</span><span class="o">.</span><span class="n">concat</span><span class="p">([</span><span class="n">avg</span><span class="p">,</span><span class="n">std</span><span class="p">],</span><span class="n">axis</span><span class="o">=</span><span class="mi">1</span><span class="p">)</span>

<span class="c1">#Rename columns</span>
<span class="n">poll_avg</span><span class="o">.</span><span class="n">columns</span> <span class="o">=</span> <span class="p">[</span><span class="s1">&#39;Average&#39;</span><span class="p">,</span><span class="s1">&#39;STD&#39;</span><span class="p">]</span>

<span class="c1">#Show</span>
<span class="n">poll_avg</span>
</pre></div>

</div>
</div>
</div>

<div class="output_wrapper">
<div class="output">


<div class="output_area"><div class="prompt output_prompt">Out[613]:</div>

<div class="output_html rendered_html output_subarea output_execute_result">
<div style="max-height:1000px;max-width:1500px;overflow:auto;">
<table border="1" class="dataframe">
  <thead>
    <tr style="text-align: right;">
      <th></th>
      <th>Average</th>
      <th>STD</th>
    </tr>
  </thead>
  <tbody>
    <tr>
      <th>Obama</th>
      <td> 46.772496</td>
      <td> 2.448627</td>
    </tr>
    <tr>
      <th>Romney</th>
      <td> 44.573854</td>
      <td> 2.927711</td>
    </tr>
    <tr>
      <th>Undecided</th>
      <td>  6.549763</td>
      <td> 3.702235</td>
    </tr>
  </tbody>
</table>
</div>
</div>

</div>

</div>
</div>

</div>
<div class="cell border-box-sizing text_cell rendered">
<div class="prompt input_prompt">
</div>
<div class="inner_cell">
<div class="text_cell_render border-box-sizing rendered_html">
<p>Looks like the polls indicate it as a fairly close race, but what about the undecided voters? Most of them will likely vote for one of the candidates once the election occurs. If we assume we split the undecided evenly between the two candidates the observed difference should be an unbiased estimate of the final difference.</p>

</div>
</div>
</div>
<div class="cell border-box-sizing code_cell rendered">
<div class="input">
<div class="prompt input_prompt">In&nbsp;[614]:</div>
<div class="inner_cell">
    <div class="input_area">
<div class=" highlight hl-ipython2"><pre><span></span><span class="c1"># Take a look at the DataFrame again</span>
<span class="n">poll_df</span><span class="o">.</span><span class="n">head</span><span class="p">()</span>
</pre></div>

</div>
</div>
</div>

<div class="output_wrapper">
<div class="output">


<div class="output_area"><div class="prompt output_prompt">Out[614]:</div>

<div class="output_html rendered_html output_subarea output_execute_result">
<div style="max-height:1000px;max-width:1500px;overflow:auto;">
<table border="1" class="dataframe">
  <thead>
    <tr style="text-align: right;">
      <th></th>
      <th>Pollster</th>
      <th>Start Date</th>
      <th>End Date</th>
      <th>Entry Date/Time (ET)</th>
      <th>Number of Observations</th>
      <th>Population</th>
      <th>Mode</th>
      <th>Obama</th>
      <th>Romney</th>
      <th>Undecided</th>
      <th>Pollster URL</th>
      <th>Source URL</th>
      <th>Partisan</th>
      <th>Affiliation</th>
    </tr>
  </thead>
  <tbody>
    <tr>
      <th>0</th>
      <td> Politico/GWU/Battleground</td>
      <td> 2012-11-04</td>
      <td> 2012-11-05</td>
      <td> 2012-11-06 2000-01-01 08:40:26 UTC</td>
      <td> 1000</td>
      <td> Likely Voters</td>
      <td>      Live Phone</td>
      <td> 47</td>
      <td> 47</td>
      <td>  6</td>
      <td> http://elections.huffingtonpost.com/pollster/p...</td>
      <td> http://www.politico.com/news/stories/1112/8338...</td>
      <td> Nonpartisan</td>
      <td> None</td>
    </tr>
    <tr>
      <th>1</th>
      <td>                UPI/CVOTER</td>
      <td> 2012-11-03</td>
      <td> 2012-11-05</td>
      <td> 2012-11-05 2000-01-01 18:30:15 UTC</td>
      <td> 3000</td>
      <td> Likely Voters</td>
      <td>      Live Phone</td>
      <td> 49</td>
      <td> 48</td>
      <td>NaN</td>
      <td> http://elections.huffingtonpost.com/pollster/p...</td>
      <td>                                               NaN</td>
      <td> Nonpartisan</td>
      <td> None</td>
    </tr>
    <tr>
      <th>2</th>
      <td>          Gravis Marketing</td>
      <td> 2012-11-03</td>
      <td> 2012-11-05</td>
      <td> 2012-11-06 2000-01-01 09:22:02 UTC</td>
      <td>  872</td>
      <td> Likely Voters</td>
      <td> Automated Phone</td>
      <td> 48</td>
      <td> 48</td>
      <td>  4</td>
      <td> http://elections.huffingtonpost.com/pollster/p...</td>
      <td> http://www.gravispolls.com/2012/11/gravis-mark...</td>
      <td> Nonpartisan</td>
      <td> None</td>
    </tr>
    <tr>
      <th>3</th>
      <td>      JZ Analytics/Newsmax</td>
      <td> 2012-11-03</td>
      <td> 2012-11-05</td>
      <td> 2012-11-06 2000-01-01 07:38:41 UTC</td>
      <td> 1041</td>
      <td> Likely Voters</td>
      <td>        Internet</td>
      <td> 47</td>
      <td> 47</td>
      <td>  6</td>
      <td> http://elections.huffingtonpost.com/pollster/p...</td>
      <td>                       http://www.jzanalytics.com/</td>
      <td>     Sponsor</td>
      <td>  Rep</td>
    </tr>
    <tr>
      <th>4</th>
      <td>                 Rasmussen</td>
      <td> 2012-11-03</td>
      <td> 2012-11-05</td>
      <td> 2012-11-06 2000-01-01 08:47:50 UTC</td>
      <td> 1500</td>
      <td> Likely Voters</td>
      <td> Automated Phone</td>
      <td> 48</td>
      <td> 49</td>
      <td>NaN</td>
      <td> http://elections.huffingtonpost.com/pollster/p...</td>
      <td> http://www.rasmussenreports.com/public_content...</td>
      <td> Nonpartisan</td>
      <td> None</td>
    </tr>
  </tbody>
</table>
</div>
</div>

</div>

</div>
</div>

</div>
<div class="cell border-box-sizing text_cell rendered">
<div class="prompt input_prompt">
</div>
<div class="inner_cell">
<div class="text_cell_render border-box-sizing rendered_html">
<p>If we wanted to, we could also do a quick (and messy) time series analysis of the voter sentiment by plotting Obama/Romney favor versus the Poll End Dates. Let's take a look at how we could quickly do tht in pandas.</p>
<p>Note: The time is in reverse chronological order. Also keep in mind the multiple polls per end date.</p>

</div>
</div>
</div>
<div class="cell border-box-sizing code_cell rendered">
<div class="input">
<div class="prompt input_prompt">In&nbsp;[615]:</div>
<div class="inner_cell">
    <div class="input_area">
<div class=" highlight hl-ipython2"><pre><span></span><span class="c1"># Quick plot of sentiment in the polls versus time.</span>
<span class="n">poll_df</span><span class="o">.</span><span class="n">plot</span><span class="p">(</span><span class="n">x</span><span class="o">=</span><span class="s1">&#39;End Date&#39;</span><span class="p">,</span><span class="n">y</span><span class="o">=</span><span class="p">[</span><span class="s1">&#39;Obama&#39;</span><span class="p">,</span><span class="s1">&#39;Romney&#39;</span><span class="p">,</span><span class="s1">&#39;Undecided&#39;</span><span class="p">],</span><span class="n">marker</span><span class="o">=</span><span class="s1">&#39;o&#39;</span><span class="p">,</span><span class="n">linestyle</span><span class="o">=</span><span class="s1">&#39;&#39;</span><span class="p">)</span>
</pre></div>

</div>
</div>
</div>

<div class="output_wrapper">
<div class="output">


<div class="output_area"><div class="prompt output_prompt">Out[615]:</div>


<div class="output_text output_subarea output_execute_result">
<pre>&lt;matplotlib.axes._subplots.AxesSubplot at 0xd2f09c50&gt;</pre>
</div>

</div>

<div class="output_area"><div class="prompt"></div>


<div class="output_png output_subarea ">
<img src="data:image/png;base64,iVBORw0KGgoAAAANSUhEUgAAAXYAAAERCAYAAABvr4yHAAAABHNCSVQICAgIfAhkiAAAAAlwSFlz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=
"
>
</div>

</div>

</div>
</div>

</div>
<div class="cell border-box-sizing text_cell rendered">
<div class="prompt input_prompt">
</div>
<div class="inner_cell">
<div class="text_cell_render border-box-sizing rendered_html">
<p>While this may give you a quick idea, go ahead and try creating a new DataFrame or editing poll_df to make a better visualization of the above idea!</p>

</div>
</div>
</div>
<div class="cell border-box-sizing text_cell rendered">
<div class="prompt input_prompt">
</div>
<div class="inner_cell">
<div class="text_cell_render border-box-sizing rendered_html">
<p>To lead you along the right path for plotting, we'll go ahead and answer another question related to plotting the sentiment versus time. Let's go ahead and plot out the difference between Obama and Romney and how it changes as time moves along. Remember from the last data project we used the datetime module to create timestamps, let's go ahead and use it now.</p>

</div>
</div>
</div>
<div class="cell border-box-sizing code_cell rendered">
<div class="input">
<div class="prompt input_prompt">In&nbsp;[616]:</div>
<div class="inner_cell">
    <div class="input_area">
<div class=" highlight hl-ipython2"><pre><span></span><span class="c1"># For timestamps</span>
<span class="kn">from</span> <span class="nn">datetime</span> <span class="kn">import</span> <span class="n">datetime</span>
</pre></div>

</div>
</div>
</div>

</div>
<div class="cell border-box-sizing text_cell rendered">
<div class="prompt input_prompt">
</div>
<div class="inner_cell">
<div class="text_cell_render border-box-sizing rendered_html">
<p>Now we'll define a new column in our poll_df DataFrame to take into account the difference between Romney and Obama in the polls.</p>

</div>
</div>
</div>
<div class="cell border-box-sizing code_cell rendered">
<div class="input">
<div class="prompt input_prompt">In&nbsp;[617]:</div>
<div class="inner_cell">
    <div class="input_area">
<div class=" highlight hl-ipython2"><pre><span></span><span class="c1"># Create a new column for the difference between the two candidates</span>
<span class="n">poll_df</span><span class="p">[</span><span class="s1">&#39;Difference&#39;</span><span class="p">]</span> <span class="o">=</span> <span class="p">(</span><span class="n">poll_df</span><span class="o">.</span><span class="n">Obama</span> <span class="o">-</span> <span class="n">poll_df</span><span class="o">.</span><span class="n">Romney</span><span class="p">)</span><span class="o">/</span><span class="mi">100</span>
<span class="c1"># Preview the new column</span>
<span class="n">poll_df</span><span class="o">.</span><span class="n">head</span><span class="p">()</span>
</pre></div>

</div>
</div>
</div>

<div class="output_wrapper">
<div class="output">


<div class="output_area"><div class="prompt output_prompt">Out[617]:</div>

<div class="output_html rendered_html output_subarea output_execute_result">
<div style="max-height:1000px;max-width:1500px;overflow:auto;">
<table border="1" class="dataframe">
  <thead>
    <tr style="text-align: right;">
      <th></th>
      <th>Pollster</th>
      <th>Start Date</th>
      <th>End Date</th>
      <th>Entry Date/Time (ET)</th>
      <th>Number of Observations</th>
      <th>Population</th>
      <th>Mode</th>
      <th>Obama</th>
      <th>Romney</th>
      <th>Undecided</th>
      <th>Pollster URL</th>
      <th>Source URL</th>
      <th>Partisan</th>
      <th>Affiliation</th>
      <th>Difference</th>
    </tr>
  </thead>
  <tbody>
    <tr>
      <th>0</th>
      <td> Politico/GWU/Battleground</td>
      <td> 2012-11-04</td>
      <td> 2012-11-05</td>
      <td> 2012-11-06 2000-01-01 08:40:26 UTC</td>
      <td> 1000</td>
      <td> Likely Voters</td>
      <td>      Live Phone</td>
      <td> 47</td>
      <td> 47</td>
      <td>  6</td>
      <td> http://elections.huffingtonpost.com/pollster/p...</td>
      <td> http://www.politico.com/news/stories/1112/8338...</td>
      <td> Nonpartisan</td>
      <td> None</td>
      <td> 0.00</td>
    </tr>
    <tr>
      <th>1</th>
      <td>                UPI/CVOTER</td>
      <td> 2012-11-03</td>
      <td> 2012-11-05</td>
      <td> 2012-11-05 2000-01-01 18:30:15 UTC</td>
      <td> 3000</td>
      <td> Likely Voters</td>
      <td>      Live Phone</td>
      <td> 49</td>
      <td> 48</td>
      <td>NaN</td>
      <td> http://elections.huffingtonpost.com/pollster/p...</td>
      <td>                                               NaN</td>
      <td> Nonpartisan</td>
      <td> None</td>
      <td> 0.01</td>
    </tr>
    <tr>
      <th>2</th>
      <td>          Gravis Marketing</td>
      <td> 2012-11-03</td>
      <td> 2012-11-05</td>
      <td> 2012-11-06 2000-01-01 09:22:02 UTC</td>
      <td>  872</td>
      <td> Likely Voters</td>
      <td> Automated Phone</td>
      <td> 48</td>
      <td> 48</td>
      <td>  4</td>
      <td> http://elections.huffingtonpost.com/pollster/p...</td>
      <td> http://www.gravispolls.com/2012/11/gravis-mark...</td>
      <td> Nonpartisan</td>
      <td> None</td>
      <td> 0.00</td>
    </tr>
    <tr>
      <th>3</th>
      <td>      JZ Analytics/Newsmax</td>
      <td> 2012-11-03</td>
      <td> 2012-11-05</td>
      <td> 2012-11-06 2000-01-01 07:38:41 UTC</td>
      <td> 1041</td>
      <td> Likely Voters</td>
      <td>        Internet</td>
      <td> 47</td>
      <td> 47</td>
      <td>  6</td>
      <td> http://elections.huffingtonpost.com/pollster/p...</td>
      <td>                       http://www.jzanalytics.com/</td>
      <td>     Sponsor</td>
      <td>  Rep</td>
      <td> 0.00</td>
    </tr>
    <tr>
      <th>4</th>
      <td>                 Rasmussen</td>
      <td> 2012-11-03</td>
      <td> 2012-11-05</td>
      <td> 2012-11-06 2000-01-01 08:47:50 UTC</td>
      <td> 1500</td>
      <td> Likely Voters</td>
      <td> Automated Phone</td>
      <td> 48</td>
      <td> 49</td>
      <td>NaN</td>
      <td> http://elections.huffingtonpost.com/pollster/p...</td>
      <td> http://www.rasmussenreports.com/public_content...</td>
      <td> Nonpartisan</td>
      <td> None</td>
      <td>-0.01</td>
    </tr>
  </tbody>
</table>
</div>
</div>

</div>

</div>
</div>

</div>
<div class="cell border-box-sizing text_cell rendered">
<div class="prompt input_prompt">
</div>
<div class="inner_cell">
<div class="text_cell_render border-box-sizing rendered_html">
<p>Great! Keep in mind that the Difference column is Obama minus Romney, thus a positive difference indicates a leaning towards Obama in the polls.</p>

</div>
</div>
</div>
<div class="cell border-box-sizing text_cell rendered">
<div class="prompt input_prompt">
</div>
<div class="inner_cell">
<div class="text_cell_render border-box-sizing rendered_html">
<p>Now let's go ahead and see if we can visualize how this sentiment in difference changes over time. We will start by using groupby to group the polls by their start data and then sorting it by that Start Date.</p>

</div>
</div>
</div>
<div class="cell border-box-sizing code_cell rendered">
<div class="input">
<div class="prompt input_prompt">In&nbsp;[618]:</div>
<div class="inner_cell">
    <div class="input_area">
<div class=" highlight hl-ipython2"><pre><span></span><span class="c1"># Set as_index=Flase to keep the 0,1,2,... index. Then we&#39;ll take the mean of the polls on that day.</span>
<span class="n">poll_df</span> <span class="o">=</span> <span class="n">poll_df</span><span class="o">.</span><span class="n">groupby</span><span class="p">([</span><span class="s1">&#39;Start Date&#39;</span><span class="p">],</span><span class="n">as_index</span><span class="o">=</span><span class="bp">False</span><span class="p">)</span><span class="o">.</span><span class="n">mean</span><span class="p">()</span>

<span class="c1"># Let&#39;s go ahead and see what this looks like</span>
<span class="n">poll_df</span><span class="o">.</span><span class="n">head</span><span class="p">()</span>
</pre></div>

</div>
</div>
</div>

<div class="output_wrapper">
<div class="output">


<div class="output_area"><div class="prompt output_prompt">Out[618]:</div>

<div class="output_html rendered_html output_subarea output_execute_result">
<div style="max-height:1000px;max-width:1500px;overflow:auto;">
<table border="1" class="dataframe">
  <thead>
    <tr style="text-align: right;">
      <th></th>
      <th>Start Date</th>
      <th>Number of Observations</th>
      <th>Obama</th>
      <th>Romney</th>
      <th>Undecided</th>
      <th>Difference</th>
    </tr>
  </thead>
  <tbody>
    <tr>
      <th>0</th>
      <td> 2009-03-13</td>
      <td> 1403</td>
      <td> 44</td>
      <td> 44</td>
      <td> 12</td>
      <td> 0.00</td>
    </tr>
    <tr>
      <th>1</th>
      <td> 2009-04-17</td>
      <td>  686</td>
      <td> 50</td>
      <td> 39</td>
      <td> 11</td>
      <td> 0.11</td>
    </tr>
    <tr>
      <th>2</th>
      <td> 2009-05-14</td>
      <td> 1000</td>
      <td> 53</td>
      <td> 35</td>
      <td> 12</td>
      <td> 0.18</td>
    </tr>
    <tr>
      <th>3</th>
      <td> 2009-06-12</td>
      <td>  638</td>
      <td> 48</td>
      <td> 40</td>
      <td> 12</td>
      <td> 0.08</td>
    </tr>
    <tr>
      <th>4</th>
      <td> 2009-07-15</td>
      <td>  577</td>
      <td> 49</td>
      <td> 40</td>
      <td> 11</td>
      <td> 0.09</td>
    </tr>
  </tbody>
</table>
</div>
</div>

</div>

</div>
</div>

</div>
<div class="cell border-box-sizing text_cell rendered">
<div class="prompt input_prompt">
</div>
<div class="inner_cell">
<div class="text_cell_render border-box-sizing rendered_html">
<p>Great! Now plotting the Differencce versus time should be straight forward.</p>

</div>
</div>
</div>
<div class="cell border-box-sizing code_cell rendered">
<div class="input">
<div class="prompt input_prompt">In&nbsp;[619]:</div>
<div class="inner_cell">
    <div class="input_area">
<div class=" highlight hl-ipython2"><pre><span></span><span class="c1"># Plotting the difference in polls between Obama and Romney</span>
<span class="n">fig</span> <span class="o">=</span> <span class="n">poll_df</span><span class="o">.</span><span class="n">plot</span><span class="p">(</span><span class="s1">&#39;Start Date&#39;</span><span class="p">,</span><span class="s1">&#39;Difference&#39;</span><span class="p">,</span><span class="n">figsize</span><span class="o">=</span><span class="p">(</span><span class="mi">12</span><span class="p">,</span><span class="mi">4</span><span class="p">),</span><span class="n">marker</span><span class="o">=</span><span class="s1">&#39;o&#39;</span><span class="p">,</span><span class="n">linestyle</span><span class="o">=</span><span class="s1">&#39;-&#39;</span><span class="p">,</span><span class="n">color</span><span class="o">=</span><span class="s1">&#39;purple&#39;</span><span class="p">)</span>
</pre></div>

</div>
</div>
</div>

<div class="output_wrapper">
<div class="output">


<div class="output_area"><div class="prompt"></div>


<div class="output_png output_subarea ">
<img src="data:image/png;base64,iVBORw0KGgoAAAANSUhEUgAAAtIAAAERCAYAAABW/kAtAAAABHNCSVQICAgIfAhkiAAAAAlwSFlz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"
>
</div>

</div>

</div>
</div>

</div>
<div class="cell border-box-sizing text_cell rendered">
<div class="prompt input_prompt">
</div>
<div class="inner_cell">
<div class="text_cell_render border-box-sizing rendered_html">
<p>It would be very interesting to plot marker lines on the dates of the debates and see if there is any general insight to the poll results.</p>
<p>The debate dates were Oct 3rd, Oct 11, and Oct 22nd. Let's plot some lines as markers and then zoom in on the month of October.</p>

</div>
</div>
</div>
<div class="cell border-box-sizing text_cell rendered">
<div class="prompt input_prompt">
</div>
<div class="inner_cell">
<div class="text_cell_render border-box-sizing rendered_html">
<p>In order to find where to set the x limits for the figure we need to find out where the index for the month of October in 2012 is. Here's a simple for loop to find that row. Note, the string format of the date makes this difficult to do without using a lambda expression or a map.</p>

</div>
</div>
</div>
<div class="cell border-box-sizing code_cell rendered">
<div class="input">
<div class="prompt input_prompt">In&nbsp;[620]:</div>
<div class="inner_cell">
    <div class="input_area">
<div class=" highlight hl-ipython2"><pre><span></span><span class="c1"># Set row count and xlimit list</span>
<span class="n">row_in</span> <span class="o">=</span> <span class="mi">0</span>
<span class="n">xlimit</span> <span class="o">=</span> <span class="p">[]</span>

<span class="c1"># Cycle through dates until 2012-10 is found, then print row index</span>
<span class="k">for</span> <span class="n">date</span> <span class="ow">in</span> <span class="n">poll_df</span><span class="p">[</span><span class="s1">&#39;Start Date&#39;</span><span class="p">]:</span>
    <span class="k">if</span> <span class="n">date</span><span class="p">[</span><span class="mi">0</span><span class="p">:</span><span class="mi">7</span><span class="p">]</span> <span class="o">==</span> <span class="s1">&#39;2012-10&#39;</span><span class="p">:</span>
        <span class="n">xlimit</span><span class="o">.</span><span class="n">append</span><span class="p">(</span><span class="n">row_in</span><span class="p">)</span>
        <span class="n">row_in</span> <span class="o">+=</span><span class="mi">1</span>
    <span class="k">else</span><span class="p">:</span>
        <span class="n">row_in</span> <span class="o">+=</span> <span class="mi">1</span>
        
<span class="k">print</span> <span class="nb">min</span><span class="p">(</span><span class="n">xlimit</span><span class="p">)</span>
<span class="k">print</span> <span class="nb">max</span><span class="p">(</span><span class="n">xlimit</span><span class="p">)</span>
</pre></div>

</div>
</div>
</div>

<div class="output_wrapper">
<div class="output">


<div class="output_area"><div class="prompt"></div>
<div class="output_subarea output_stream output_stdout output_text">
<pre>329
356
</pre>
</div>
</div>

</div>
</div>

</div>
<div class="cell border-box-sizing text_cell rendered">
<div class="prompt input_prompt">
</div>
<div class="inner_cell">
<div class="text_cell_render border-box-sizing rendered_html">
<p>Great now we know where to set our x limits for the month of October in our figure.</p>

</div>
</div>
</div>
<div class="cell border-box-sizing code_cell rendered">
<div class="input">
<div class="prompt input_prompt">In&nbsp;[621]:</div>
<div class="inner_cell">
    <div class="input_area">
<div class=" highlight hl-ipython2"><pre><span></span><span class="c1"># Start with original figure</span>
<span class="n">fig</span> <span class="o">=</span> <span class="n">poll_df</span><span class="o">.</span><span class="n">plot</span><span class="p">(</span><span class="s1">&#39;Start Date&#39;</span><span class="p">,</span><span class="s1">&#39;Difference&#39;</span><span class="p">,</span><span class="n">figsize</span><span class="o">=</span><span class="p">(</span><span class="mi">12</span><span class="p">,</span><span class="mi">4</span><span class="p">),</span><span class="n">marker</span><span class="o">=</span><span class="s1">&#39;o&#39;</span><span class="p">,</span><span class="n">linestyle</span><span class="o">=</span><span class="s1">&#39;-&#39;</span><span class="p">,</span><span class="n">color</span><span class="o">=</span><span class="s1">&#39;purple&#39;</span><span class="p">,</span><span class="n">xlim</span><span class="o">=</span><span class="p">(</span><span class="mi">329</span><span class="p">,</span><span class="mi">356</span><span class="p">))</span>

<span class="c1"># Now add the debate markers</span>
<span class="n">plt</span><span class="o">.</span><span class="n">axvline</span><span class="p">(</span><span class="n">x</span><span class="o">=</span><span class="mi">329</span><span class="o">+</span><span class="mi">2</span><span class="p">,</span> <span class="n">linewidth</span><span class="o">=</span><span class="mi">4</span><span class="p">,</span> <span class="n">color</span><span class="o">=</span><span class="s1">&#39;grey&#39;</span><span class="p">)</span>
<span class="n">plt</span><span class="o">.</span><span class="n">axvline</span><span class="p">(</span><span class="n">x</span><span class="o">=</span><span class="mi">329</span><span class="o">+</span><span class="mi">10</span><span class="p">,</span> <span class="n">linewidth</span><span class="o">=</span><span class="mi">4</span><span class="p">,</span> <span class="n">color</span><span class="o">=</span><span class="s1">&#39;grey&#39;</span><span class="p">)</span>
<span class="n">plt</span><span class="o">.</span><span class="n">axvline</span><span class="p">(</span><span class="n">x</span><span class="o">=</span><span class="mi">329</span><span class="o">+</span><span class="mi">21</span><span class="p">,</span> <span class="n">linewidth</span><span class="o">=</span><span class="mi">4</span><span class="p">,</span> <span class="n">color</span><span class="o">=</span><span class="s1">&#39;grey&#39;</span><span class="p">)</span>
</pre></div>

</div>
</div>
</div>

<div class="output_wrapper">
<div class="output">


<div class="output_area"><div class="prompt output_prompt">Out[621]:</div>


<div class="output_text output_subarea output_execute_result">
<pre>&lt;matplotlib.lines.Line2D at 0x4025aa58&gt;</pre>
</div>

</div>

<div class="output_area"><div class="prompt"></div>


<div class="output_png output_subarea ">
<img src="data:image/png;base64,iVBORw0KGgoAAAANSUhEUgAAAswAAAERCAYAAABvmfF2AAAABHNCSVQICAgIfAhkiAAAAAlwSFlz
AAALEgAACxIB0t1+/AAAIABJREFUeJzt3XmYJEWd+P931AzNIcMpLoLod3E1XER0nVEQlGtgWQUU
WQWPdb1wfyLrCuiqg0xn54wrKtfuPuuxX8X13ANEVAZFLuUYjh0aBc9AxS9yKecwwzlMV/7+yGym
punOrq7p6q6efr/mqWeqMjMyIjuqKj8VGRkRiqJAkiRJ0uga010ASZIkqZcZMEuSJEk1DJglSZKk
GgbMkiRJUg0DZkmSJKmGAbMkSZJUY24niWKMDeCzwB7A48AxKaXftqx/M/ABYC3wU+B9QKhLI0mS
JPWiTluYjwD6Ukp7Ax8FTh9eEWPcHFgK7J9SeiWwNXBYlWbT0dJIkiRJvarTgHkf4EKAlNJ1wIKW
dY8Br0gpPVa9nlst2wf4/hhpJEmSpJ7UacC8FbCq5fVQ1U2DlFKRUroHIMb4fuBpKaWL69JIkiRJ
vaqjPsyUge+8lteNlFJz+EUVCH8a+DPgr9tJI0mSJPWiTgPm5cDhwDkxxr2Am0as/3fKbhivTykV
baZ5isHBwWK8bSRJkqQNNX/+/DDWulAUE49JY4ytI14AvBOYD2wJXF89rmhJ8s/Ad0emSSndXJfP
4OBgUVf4ydCtPPI8X+8Pm2VZV49D7ZmK95TqTeVnw/qeXazv2cHz6+zU7c/3ePvvqIW5ajU+dsTi
1uB3zhhJR6aRJEmSepo33UmSJEk1DJglSZKkGgbMkiRJUg0DZkmSJKmGAbMkSZJUw4BZkiRJExYq
012OqWDALEmSpLaFEEJ/6L+kn/6hfvqH+kP/JRsaOMcY948xrowxPqtl2SdjjG/f8BJvOANmSZIk
tW0xiy9u0FjYoBGqx8J++m9bFBYt2MBdPw78R8vrnpnxudOpsSVJkrQRykN+KvDG0dYVFATCcwLr
GpRD+W/nPvquHQgDt7eua3FOVmT/WJNtAVwGhBjjcSmlzwyviDF+cNddd+WWW265GrgipfTRGOMA
8H+AZwDPAU5IKV0UY9wP+DgwBPwW+P9SSmvbP/rR2cIsSZKk6TYcZb8POCHG+Nzq9TzgjUuWLCGl
tDfwvBjjoZQB9mMppdcAHwBOqLb/AvD6lNL+wB3AOyajcLYwS5Ik6UlVS/CYrcH9of+SgmLhcEty
Uf67Yw1rjjilOOX6Dck7pXR/jPF44CvAcmAz4NpGo7FntcmVwAur5z+p/r8d2CzGuAOwI3BOjBFg
c+CiDSnPMFuYJUmS1LalLD24oLhj+HVBcccSluyyocHysJTSMiBRtg4/BuzZbDaJMQZgX+DmJ7Ne
372UwfNrU0oHAJ8ELpmMMhkwS5IkqW1FURRrWHNEk+YdTZp3rGHNEUVRbOgNegXrB8DHA48Cq4Cz
BwYGAK4DfpdS+nZLmifTp5QKyu4Z34sxLgf+DvjFBpYLsEuGJEmSJuiU4pTrQwi7QBlAb+j+UkqX
A5e3vF5NeVMfAIODg2fMnz//5S3r85bnvwIOrJ5fDFy8oeUZyYBZkiRJEzYZgfJMYZcMSZIkqYYB
syRJklTDgFmSJEmqYcAsSZIk1TBgliRJkmp0NEpGjLEBfBbYA3gcOCal9NsR22xBOazHu1JKqVp2
A/BgtcktKaV3d1pwSZIkaSp0OqzcEUBfSmnvGOOewOnVMgBijAuAzwM7UQ0qHWPcDKCaeUWSJEma
ETrtkrEPcCFASuk6YMGI9X2UAXRqWfZiYIsY4w9ijJdWgbYkSZLU0zoNmLeinKpw2FDVTQOAlNLV
KaXbR6R5GDg1pXQI8F7gG61pJEmSpF7UaZeMVcC8lteNlFJznDQ3A78BSCn9OsZ4H/BM4I66RIOD
g12fRWZjyUPtsS56S7frw/qeXazv2cc6nz2ms647DZiXA4cD58QY9wJuaiPNOylvEjwuxrgTZSv1
XeMlmj9/fuiwjG0ZHBwsupHHsmXL1qvUbh+H2tOt+lb7pvKzYX3PLtb37OD5dXbq9ud7vGC804D5
PODgGOPy6vU7Y4xvBrZMKX1hjDRnAf8RY7xiOE0brdKSJEnStOooYE4pFcCxIxbfPMp2B7Q8Xwu8
rZP8JEmSpOniTXeSJElSDQNmSZIkqYYBsyRJklTDgFmSJEmqYcAsSZIk1TBgliRJkmoYMEuSJEk1
DJglSZKkGgbMkiRJUg0DZkmSJKmGAbMkSZJUw4BZkiRJqmHALEmSJNUwYJYkSZJqGDBLkiRJNQyY
JUmSpBoGzJIkSVINA2ZJkiSphgGzJEmSVMOAWZIkSaoxt5NEMcYG8FlgD+Bx4JiU0m9HbLMFcDHw
rpRSaieNJEmS1Gs6bWE+AuhLKe0NfBQ4vXVljHEBcAXwp0DRThpJkiSpF3UaMO8DXAiQUroOWDBi
fR9lgJwmkEaSJEnqOZ0GzFsBq1peD1VdLgBIKV2dUrp9ImkkSZKkXtRRH2bKwHdey+tGSqnZhTQM
Dg4W422zoTaWPNQe66K3dLs+rO/Zxfqefazz2WM667rTgHk5cDhwToxxL+CmLqVh/vz5ocMytmVw
cLDoRh7Lli1br1K7fRxqT7fqW+2bys+G9T27WN+zg+fX2anbn+/xgvFOA+bzgINjjMur1++MMb4Z
2DKl9IV203SYtyRJkjRlOgqYU0oFcOyIxTePst0B46SRJEmSepo33UmSJEk1DJglSZKkGgbMkiRJ
Ug0DZkmSJKmGAbMkSZJUw4BZkiRJqmHALEmSJNUwYJYkSZJqGDBLkiRJNQyYJUmSpBoGzJIkSVIN
A2ZJkiSphgGzJEmSVMOAWZIkSaphwCxJkiTVMGCWJEmSahgwS5IkSTUMmCVJkqQaBsySJElSDQNm
SZIkqcbcThLFGBvAZ4E9gMeBY1JKv21ZfziwGFgLfCml9MVq+Q3Ag9Vmt6SU3r0BZZckSZK6rqOA
GTgC6Esp7R1j3BM4vVpGjHET4AxgAfAIsDzG+B1gNUBK6YANLrUkSZI0RTrtkrEPcCFASuk6yuB4
2J8Dv0kpPZhSegK4CtgPeDGwRYzxBzHGS6tAW5IkSeppnQbMWwGrWl4PVd00htc92LJuNbA18DBw
akrpEOC9wDda0kiSJEk9qdMuGauAeS2vGymlZvX8wRHr5gEPADcDvwFIKf06xngf8EzgjrqMBgcH
iw7L2LaNJQ+1x7roLd2uD+t7drG+Zx/rfPaYzrruNGBeDhwOnBNj3Au4qWXdr4DnxRi3pWxV3hc4
FXgn5U2Cx8UYd6Jsib5rvIzmz58fOixjWwYHB4tu5LFs2bL1KrXbx6H2dKu+1b6p/GxY37OL9T07
eH6dnbr9+R4vGO+0S8R5wGMxxuWUN/ydEGN8c4zxPVW/5ROBHwBXA2ellO4CzgK2ijFeAfw38M6W
VulpEUIIReEPU0mSJI2toxbmlFIBHDti8c0t65cBy0akWQu8rZP8JlsIISxm8cX99B94/svO57t8
95KlLD24MHqWJEnSCLPyprvFLL64QWNhg0Zo0KBBY2E//bctCosWjJ9akiRJs8msC5gXhUXbBMKB
gXXdYAKBBo2d++j7dgjBvlCSJEl6Uqc3/c0oeci3Al4LHLUpmx5SUBgUS5IkqS0bbcCch3xLypE8
jgJeDWwKEAg3Nmk+raD4s+FW5qL8d8ca1hxhP2ZJkiS12qgC5jzkTwNeAxwNHApsVq36GXA2cE5W
ZL8KIYR++m8LhJ2hDJiBt51SnHL9NBRbkiRJPWzGB8x5yDenbEE+GjgM2KJa9SvgfyiD5J+3pimK
olgUFh3RR9+3+7bp23nNyjXNBo0v5CHfIyuyR6b0ACRJktTTZmTAnId8M+AQyiD5cGDLatWvKYPk
s4GfZUU2ZveKU4pTrg8h7LLi4hXNC152wRnAh4Al1f+SJEkSMAMC5v7Qf8lSlh48wMAmwF9S9kl+
HeVMgQC3AP9GGSjfWBckj1QURTE4OAiQAUcAJ+QhPzsrsv+dzGOQJEnSzNXzAXM1RvJDTZpDDRrz
qsW3Av9OGSTfMJEgeTRZkT2Sh/wY4EfAl/KQvzQrsjUbVHBJkiRtFHo+YA7lvy2aNIcKijMC4X+A
FRsaJI+UFdnlecg/D7wXOAkYmMz9S5IkaWbq+YC5xR9y8g91edi3j1DeOHhSHvJzsyL7aRfzkiRJ
0gzQ8zP9FRQ0aU7JGMlZka2ibGHeBDgrD/lM+kEhaSMTKtNdDkma7WZCwHzHEpbsMlVjJGdFdgHw
DeBlwAemIk9JahVCCP2h/5J++of66R/qD/2XGDhLmq1CCKGbbabtfL/2fMA8TbPvHQ/cA3w8D/mf
TXHekma5xSy+uEFjYYNGqB4L++m/bVFYtGCy87IVW1Kvam08OP9l5zPZjQet+x9v257vcjAds+9l
RXZvHvL3A/8NfDEP+YFZkTWnuhySZp9qJtIDA+vOCdXNzzv30XfVQBg4LxDuBe4b5TG8/KHxbowO
IYTFLL64n/4DAfpD/2VLWXrwNDRQSNKohhsPhr8PC4qF/fTfflI46U2bsumPJ2H/5zdo7N/6fTuW
ng+Yp9HZwJspx3x+D+UwdrPS8K85T6T1/DtpCmwKvKmN7Z7IQz4yiF4vsF7M4g80aLxkxInotkVh
0RHT0VAhSa1ODic/cw5zRms82GkTNrmioKCdQHcsw+nb3YcB8xiyIivykL8P2B84NQ/5BVmR3T7N
xZpStkC1x7+TJlNRFEV/6P9hQXFgSzBLQXHHEzxx1KZseiuwPfD06v/tx3i9PbAz8MKn5DHKiaKl
FfvbIYRdfP9Kmmp5yJ8B/DVw9Fzm7ltQjBXNPgZcOglZHtruhgbMNbIiuzMP+QeBLwKfz0N++GSP
/9zLxrgUYgvUCFP5d7IVe3YIhPNGBMx3LGFJaxB7R7v7qkb72ZaWwLqg2J7ye220k9FOGdkX85Cf
DVyWFdkTG3IsklQnD/nTgSMpZ3I+gOr+ukC4qklzh4Iijmw8WMOaSTm/9of+SwqKhXbJmBxfouya
cWj1/39Ob3GmxuKw+M8bNMbqR/m9o8JRO55dnD3r+3WP09/0uoEwcEMg3AYMP25veX5nVmRr283H
VuzZIQ/59g0aS5o0H2rSXA00N+Tm5+o9dk/1eFJ/6H9L64miOhE9BDwaCO8C3gXcl4f8W5Szql7e
7vtV6pYQQhgYGHjKMr8LZ5Y85NsBr6cMkhcCc6pV11B2if1mVmS3V+fY2wJhZxi18WCDLGXpwa37
r2PAPI6qa8bfAT8F/jUP+SVZkd093eXqhjzkz6d88x49hzm7F4z5ftxhN3a7Kw/5BcD5wMVZkT00
VeXsJf3078/orXQABfAiYKyRDZp5yO9i/SB6ZGD9h6zIhmztn1WWANs2aJw4wMA/Q3euKIw8UQyf
iAYYCMDewNHAGyjv4XgPcE8e8nMpg+crsyIb965yabItZvHFI5f5XTgz5CHfhvK+sKOBg1kXg66g
/F75ZlZkt7amKYqiWBQWHdFH37c322GznVfds2pSR05r3T9lF7YxdRQwxxgbwGeBPYDHgWNSSr9t
WX84sBhYC3wppfTF8dL0sqzIbslD/jHgTOBfKFuaNwp5yJ9LGSQfBbykWrwmEL7TpPncgmL3ES1Q
9xUUVzVovAJ4Z/VYk4f8MmAZcH5WZL+f+iOZWtWPi083aLxuiCFabz5ovWS0GZsNAjsAzwJ2GfEY
XvZSYM8xslo7EAbuDIRn299045eH/EWUkycl4DPdrNcRJ4rWITwL4CrgqjzkxwOvZF3w/N7q8Yc8
5N+kbAla7ihC6rY85Ns1ab4qEBaOXNegsXMffZdmITuuQeO3wC3A3RvShXIqur9tLF3s6o4jD/lW
wGspv0MOoZwYDuAGyiD5nKzIfle3/1OKU64PIeyy4nsrmgsWLJj0H0XD+38tr639HutoIOgY45HA
YSmld8UY9wQWpZSOqNZtAvyCslXtEWA55XTTrwQOTym9c2SasQwODhbz58/v6vig7eaRh3wO5Ulk
L+B1WZF9t3b7PF/vD5tlWc+Mc5qH/P+wLkieXy1+AriI8g383azIHhy+FNKgsTNAk+aTl0LykDco
J3c5vHrs0ZLFTZQtz+cDK3rpZLqh76k85NsD/cD7KH9wXjnE0ImB8O3R/k5t7rMB/AnrB9FPPgqK
ZxUUuzRGGTa9SfPxQPhkIFwDXJcV2cpOj22qTOVnYyq+QyZLHvJAeRPLAcBrsiL7/lTk2+5Ju+oL
vR/l98ZfU/aHBrgTOIcyeL52tM/7VAUGM6m+Va/q17ov5Xtuf+BFBUUoKGgMjPguHIAmzZE3sj5M
GTj/dpT/b82KbM1o+Q53fwuEAwEKiknv/jYVeUyFsY5jgIGnUcYFRwGvphzdB+BGyu+Js7Mi+81E
8+v253u8/XcaMJ8OXJdSOrt6fXtK6VnV8z2AT6WUXl29PgO4GnjFWGk6LfxkmEgeech3A35MOUzT
C+uCk14LmPOQPxt4I+Ub+OXV4rXAJZRB8neyIntgZLpFYdGC1haosS55Vfs/jPJDciDQV626Gxi3
60avn1DzkPdRBsn9lDdQ3QL8I3BeVmRFu3+nTvWH/ktb+5RXrdhrgbktgXQB/JyyD9jV1f8399qN
qgbMo8tDfiRwLnBBVmSHTXd56uQh34QysD+K8madbatVt1EGz/8DrBhggKkMDLpZ37Y4dlc1OsJ+
LY/dW1Y/Rvl9dvkQQ4fNGZizXje35kDzD02aH5/L3CawK/Dc6rErsOUo2TUp36tPCaaHGDq9QWO/
bt1kBuWNZiO62E16HsO6+Z4a4zgeBRoNGsNB8s9YFySnDclvpgbMXwDOTSldWL2+FfjTlFIzxvhK
4O9TSm+q1uXA7ylbZkdN02nhJ8NE88hDfjKwFPhiVmTvGXO7KQoKxrkUsjPrguRXVIuHgMso38Dn
ZUV234bkMZo85FsCB1EGz4cBz6hWranyfrLrxlT/0u6gvgNln6tTgT8DHqTsY/qZrMgeb922m19M
Y7X2DzCwPeVn6xWU/U5fDmzRkvQ+yhPNcBC9Iiuyh8fLq1vHAQbMo8lDvhnwS8o+dLtnRXbzNBep
bdWPyYWU3zOvB7auVt06xBANGs+ZisAAulPfG1uLY68E/nnId2Rd6/F+wJ+3rH6U8vvqR8DlwP8O
f99WN/2tFzcMDAw0xjgHBsouccNB9Mj/d2rdvnp/MsbVvEcD4fsbMu5vSx5HjpHHSuC4Bo2R46eP
OxHRSJP1nqqugG7NiCEsmzS3B84Y4zjWBsI/BcLZWZH9YiL51ZmpAfPpwLUppXOq17ellHapnr8I
+GRK6dDq9RmU3TL2HitNXeEnXLgua65tcuXbrmT1r1ez12f34ukvf/qo2y1btmy914cdNrkNRkVR
cPX7rua+FWW8u/3Ltmfvz+7N4/c9zl2X3sVdF9/F/T+5v9y4AdvP356dDtqJHQ/ckU233bRmz5Or
aBas/MVK7r7ybv545R9ZdfOqJ9fNe948Hn/ocR6/6/H1+v9uusOmLDh9Advttt2UlXM0D/7qQX5+
xs+5/4b7CXMCz3nDc3j+e55P3zZ94yfugvt/cT/Xf7CMMcb6+zTXNln9m9Xcf+P9PPDTB3jgpgd4
9M5Hn1wf5gS2et5WbLvHtk8+Nn/m5oQQxnxPTeasyUVRcMEFF6y37NBDD53UPGaiX5/1a9LnEru+
bVd2+8Bu012cjg2tGeLe6+7lzovu5A+X/4EnHnli1OCjb4c+Dv7ewTOi3pcfu5z7V9zf1e+oqchj
qj7fY+Xx6N2Pcv8N93Pf4H3cN3gfD/9+3e/2OZvPYbsXb8d2L92O7edvzza7bUNjk6e+b4ZN1vl1
6LEhHrnzER65/REevuNhHr7tYX539u/GCpgnNMnFWMYJykfNI8wN9G3dR982fWyy9SZPPl/v9dbV
823K5ysWrXjqe+rpm7JH/x48bcensWblGtY8uIYnHnxi3fOVT7DmwZblD67hiVVPUAw9NRSrO46Z
9PkeqRsB85Gs64+8F7C4JUDehPKy8J6UfYiupmxpfMVYacbSiy3MAHnI5wP/C9wKvGi0Frtut6KN
cSlkDbBJg0agvDx/JeWl0W9lRfaHycy/U61dNwqKAwuKvjG+OCZ16Jhh7dR31TL/T8DfUo6AcT7w
4azIfjWZZelEJ61DecifyboW6FdQ3l/QGvX/Abh6iKHdGzSe3+1LkXMG5qx3005zoDmjWhwnW/V+
uxl4CHh+VmQPTnORJsWJ4cTN5jHvker7aD1NmmsC4dRAuBS4JiuyxyYjz8mu738I/9C3Lds+NsYx
PBEIv5ykAGqPMb4HHwuE7wTCI5T3BD064v92lz06xND3u90NYIzz0iPAfQ0arQ1kD1HeE/Qjyhbk
wYmM993N8+sYx3DXWta+rY++n0xGHkMMfatBY98RedzbpHnaXOY+yNgTET0d2Ga8/XcSlD9lM7if
EbODjnh93xBDixo0FszkK0gT2X+nw8qdBxwcY1xevX5njPHNwJYppS/EGE8EfkA5+PRZKaW7YoxP
SdNh3tMuK7LBPOSnAR+m7J5x4lTmXzP2b1+T5pomzQ81aJybFdmdU1mudlQjaHwW+OxHwke23IzN
VjH6sGx/kpF9Jg/5pcAPsyK7v9tly0P+NMp+yR8GNqe8QeGDWZFNxmxCk6KTHxBZkd0FfKt6kId8
U8qROYaD6L0LiiNrZn67diAM3DUZgUEgPOW+heoO99k82senKLvR/MPGEiwDnFGc8Vh/6L9slLGe
1wBzAuFjwMeAx/KQX0V5w+MlwI+na8i6qh/tkz8ut2O7l9XMNDYXeHaXi7QZ5egCG2ScmR0n9fM9
Sh5bNGluXlBcEAiXUwbJP+7VMb3HGm5xkrvg7N9pHqNNRMToM36ONajCo8BXGSMIrpY92M7N+iGE
87r9t+olHQXMKaUCOHbE4ptb1i+j7Kc6XpqZbICyv97xecjPzors2qnK+GRO3pWxx/69ZwlL/m0m
vGE/VXzqoTFOqI8BQ4FwLOV7pshD/mPWnVCvyorskckqR9VH62+BTwDPpGxx/XvgKxvjWLNVX8Dh
fs1n5CEPa1n77DnM+R1jv69GvaN8Em3XT/8RecgvzIrs0fE33zjkId8beCswCPzHNBdn0tWM9bwl
5QgIB1H2fz6oepwCrMxD/kPKz/ulQOrGjavVyEe7U/1opAyUn9uySTMQbmrSfHpB8azQxVa0kbON
DeexlrV/00dfovxBtfmI/ye67CnDsbXo9uf7zpz88JlwXqoZbrEn8hhrIqKRxnpPTeb7dir+Vr3E
iUs6lBXZo3nIj6G8nHRWHvKXjrwJbLLlId8JWDyXucfUjf07k96wNSfUuZRdB4ZPqHtTtor+I+W4
z9ew7oS6otPpe/OQHwCcDvwF5S/vpcCnZ9NELFUwcusYP14mPTBgxIm7SXMI2LxB41vAQ3nIv0N5
U+oPuv2Zmk7VD7V/qV5+oJeGX5wsNSfU1ZSj51wAT7bsHsi64Pn11QPgjupK06XApVmRjToteAgh
rFixYsyy5CHflvIG2eHgeE/WH0HhAeB7rH+D7OpuzzQGU9OqORUBVF0eM+m8NDwuL3Tv5shu5zEV
7ymYmr9VrzBg3gBZkV2Rh/yzlMONfYxyyLFJV439+xHg/ZSX6H4dCIsLitNn+qWQmhPqE6xrBV1a
dZd4JeUJdSHrxudcAqzOQ3456wLon43WItV6Qh2eeIRyBAyArwEfy4rstq4dbI+bii/YaozO9QLD
y7l8kwM44C+oZpmkbHF9K7AqD/m3KYPni8caN3UGezvlj8L/zIps+Xgbz1TtnFCr2VP/u3qQh3xX
1n3WD6S8AvS31brEuqtNPxpgYOXwtPHnv+x8vst3L/kVv/rLF/LCyLrgeG/WH4UByvkCWodgTKP9
aOn1Fsd2TdXne2O5RD8VZe5mHlPZ+jsT67cTHd30N1V69aa/VtUsNj+jvJQ/Pyuym2BybkrIQz4P
OB74ELAV5XTJOWVXgSe6PfbvVOpg6LrtKYcjGm6Bfl7L6rsph6+7BLh0gIFbW4bXCQXF7xs0dgqE
uZQ3Rp6YFdmM/dtNpql4T9V9NqphoBZQBs5HUU7eArCS8t6J/wEua/eKQq/e9Fd9b9wMzANiVmS3
T3ORelbVEr876z7r+wFPq1Y3hxh6qEFjqxGtmgUQWm56egi4jnXB8bWjjTtfp1eGY9sQU/H5nu7v
EK1vYxrbe7pv+jNgnoQ88pC/mvJS3iCwV1ZkazfkA12Nyfpe4CTKMSTvpexf+7mRd5NvTB+GDZGH
fBfWtUgdBOw4vG6IoUcbNDYfcUIdatL86Fzmnt5rE3tMt14Zh7kKlF5OGTy/kXKMYihvTPkWZcvz
j8a6eai6otBcsGBBz51M85B/mrJ7UX9WZEunuzwzSTVpysuBhQXFQQXFq8YYDeAR4EMNGldTXnXa
6O5H6MTGEPgbMM9O0x0w2yVjEmRF9v085F8D3gacQDnJxYRVd7++A8gop0heXT0/Myuy1aOlme2B
8rCqK8WXgS9XrZR/TnlCXRgIrxvlzu05wPEDDJyekU1LmXtVr7ynqsvj1wLX5iH/IOVl9aMog+f3
VI978pCfSxk8X5EV2dDwgP2tl+h7adrZPOTPo7xydCtw2jQXZ8apri4sB5aHEJb20z/E6DerPrCE
JZ/vlXrvFTO9q4E0XQyYJ88JwCHAkjzk32Gg/YRVS9obKfvjPp9yGtDTgE+2MxOf1le1GP8C+EUI
4d9qTqiaIarg+SrgqjzkJ1D2Zz8KeAPl1Zj3An/MQ/7NxSzec8TYoAv76b9tUVjUK92WTgc2AT40
m0YE6YaiKIq6m1UN3CRNFgPmSZIV2X15yP+esqXrC+2kqVpCX005ScZLgLXA54GPj3UnuCbGE+rG
p7q0fjlweR7yD1DeAHo08NcFxXE1481O+1jPecgPoZzI6UfAudNVjo3JxnSjmaTeZcA8ub5JeWPS
68fbMA/5qyj7Jb+Scla+bwADWZH9pqslnIU8oW68qv7LlwGX5SH/+4Jif+Ci6S3V6Kq+t/9MOYvW
8fadnxy2B64PAAAURElEQVStowFstsNmO6+6Z5U/hCVNOgPmSZQVWZGH/DjgAMaYvjIP+UspW5T/
qlr0XWDx8OgamnyeUGeHqm/rxf2h/9JRrijc3QNXFI4DXgB8PiuyG6exHBud4aHrVnxvRXPBggW9
0O1G0kbGgHmSZUV2VxayExs0vtS6fHFY/IK5zF1C2VcZykuyJ2VFds1Ul3E28oQ6e4xyRYFA2Gwz
NttyvLTdkod8B8rZQVcCi6erHBuzoiiKwcHB6S6GpI3UU8fi0QYrKN46clmDxi+bNN8IrAAOBg40
WJ5aRVEU1WhH2ogVRVGsYc0RTZp39O3QR5PmSYGwOfCDPORvmKZifRzYGsiyIrt3msogSeqQAfMk
CyGEaoKM9VTjhN73Q364Z1Zkl9h/UeqeU4pTrl/Ckl0O/t7BLC2WngK8BlgDnF11m5oyechfQjkE
3i+Az01l3pKkyWHAPLUeu5zLp7sM0qzQekUhK7JLKGeIuxv4tzzkH69GqemqKo9/oRzW8Ph2ZyiU
JPUWA+ZJVhRFUVBcNnJ5k6bDmEnTKCuyGygnP/kN8DHgi9VkQd30Rsph776bFdnFXc5LktQlBsxd
sJSlB49ctoQlu/TIpAnSrJUV2S3APsD1wLuAb+ch36IbeVX7PZWyK8gHu5GHJGlqGDB3wWityLYs
S70hK7K7KYd+/AFwKHBpHvKndyGrfwSeTTm1veOrS9IMZsAsadbJiuwh4LXA14G9KKfcfs5k7T8P
+bOBjwB/oBx3XZI0gxkwS5qVsiJbA7ydsttEBK7JQ77HJO3+08DmwEezIls9SfuUJE0TA2ZJs1ZW
ZM2syD4MnAg8E7giD/l+G7LPatr7o4H/Bb624aWUJE03A2ZJs15WZGcCbwG2AC7qdIKTPORzKIeR
A/hAVmTNSSqiJGkaTXhIpRjj5pT9/nYAVgNvTyndO2Kb9wB/B6wFPp5SuiDGGIDbgZurza5JKZ20
IYWXpMmSFdl/5SG/BziPcoKT92dF9pkJ7uZdwF8AX8uK7NpJL6QkaVp00sJ8LHBjSmlf4KvAya0r
Y4w7Au+nHO/0EOCUGOMmwHOBwZTSAdXDYFlST9mQCU7ykG9DeYPfw8BHu1dKSdJU6yRg3ge4sHp+
IXDQiPUvB5anlJ5IKa2inCTgxcB8YOcY42UxxgtijM/vtNCS1C0bMMFJP+WVt3/KiuzOLhZRkjTF
agPmGOO7Y4w/bX0AWwOrqk1WV69bzQMebHk9vM2dwCdSSgcCn6Ds1iFJPWeiE5zkIX8B5ZW1W4Az
p6SQkqQpU9tqklI6CzirdVmM8VzKoJjq/5Ujkq1qWT+8zQPALyn7NJNSWh5j3KmdAg4ODnZ9wo+N
JQ+1x7roLd2uj073f9j1h7H2kbUMfmSQe66559BtXrTNw9dceg192/Q9Zdsd9t6Be66+hwWnLdh1
x/13fHRwcHCDy63O+Pmefazz2WM663rCN/0By4HXACuAVwNXjFj/v8A/xRg3BTYD/hz4OTAA3A+c
GmN8MfD7djKbP39+W/0HOzU4OFh0I49ly5atV6ndPg61p1v1rfZN5WdjMur7wmsu7APOWvnTlX9z
0UEXJeCQrMhuHV6fh/xQYBlw6fUfuv7grMg8eU8TP9+zg+fX2anbn+/xgvFO+jB/DnhhjPFK4Bgg
B4gxnhBjPDyl9EfgX4ErgUuBk1JKjwOfBPaNMf4QOA14Rwd5S9KUGmuCkxBC+IfwD32UXTCGgOMN
liVp4zThFuaU0qPAUaMsP7Pl+ReBL45Y/yBweAdllKRpVY2n/OE85HcVFGc0aQ720z8HYIih0KDx
bwPFwM+muZiSpC5x4hJJalNWZGc2af60QWNug0aoHhQURy4KixZMd/kkSd1hwCxJbQohhEDYPbCu
G10g0KCxUx993w4h2JdSkjZCBsySJElSDQNmSWpTURRFQXFZwbp7+woKmjTvWMOaI4qi8KY/SdoI
dTKsnCTNWktZenA//bcFws4ABcUdS1iyi8GyJG28bGGWpAkoiqJYw5ojmjTvsGVZkmYHW5glaYJO
KU65PoSwC5QB9HSXR5LUXQbMktQBA2VJmj3skiFJkiTVMGCWJEmSahgwS5IkSTUMmCVJkqQaBsyS
JElSDQNmSZIkqYYBsyRJklTDgFmSJEmqYcAsSZIk1TBgliRJkmoYMEuSJEk1DJglSZKkGnMnmiDG
uDnwdWAHYDXw9pTSvaNstwOwHNg9pbSm3XSSJElSL+mkhflY4MaU0r7AV4GTR24QYzwEuAh4xkTS
SZIkSb2mk4B5H+DC6vmFwEGjbDMELAQemGA6SZIkqafUdsmIMb4bOH7E4j8Cq6rnq4GtR6ZLKV1S
pW9dvBXwYF06SZIkqdfUBswppbOAs1qXxRjPBeZVL+cBK9vMaxVl0DyhdIODg0Wb++/YxpKH2mNd
9JZu14f1PbtY37OPdT57TGddT/imP8ob+V4DrABeDVzRzXTz588PHZSxbYODg0U38li2bNl6ldrt
41B7ulXfat9Ufjas79nF+p4dPL/OTt3+fI8XjHcSMH8O+EqM8UrgceAtADHGE4DfpJTOb9m2GC+d
JEmS1MsmHDCnlB4Fjhpl+ZmjLNt1vHSSJElSL3PiEkmSJKmGAbMkSZJUw4BZkiRJqmHALEmSJNUw
YJYkSZJqGDBLkiRJNQyYJUmSpBoGzJIkSVINA2ZJkiSphgGzJEmSVMOAWZIkSaphwCxJkiTVMGCW
JEmSahgwS5IkSTUMmCVJkqQaBsySJElSDQNmSZIkqYYBsyRJklTDgFmSJEmqMXeiCWKMmwNfB3YA
VgNvTyndO8p2OwDLgd1TSmtijAG4Hbi52uSalNJJHZdckiRJmgITDpiBY4EbU0pLYoxHAycDx7du
EGM8BPgk8IyWxc8FBlNKr+20sJIkSdJU66RLxj7AhdXzC4GDRtlmCFgIPNCybD6wc4zxshjjBTHG
53eQtyRJkjSlaluYY4zvZkTrMfBHYFX1fDWw9ch0KaVLqvSti+8EPpFSOjfGuA9lt46Xd1ZsSZIk
aWrUBswppbOAs1qXxRjPBeZVL+cBK9vM63pgbbXf5THGnSZWVEmSJGnqddKHeTnwGmAF8GrgijbT
9QP3A6fGGF8M/L6dRIODg0UHZZyQjSUPtce66C3drg/re3axvmcf63z2mM667iRg/hzwlRjjlcDj
wFsAYownAL9JKZ3fsm3rgX0S+HqM8TWULc3vaCez+fPnhw7K2LbBwcGiG3ksW7ZsvUrt9nGoPd2q
b7VvKj8b1vfsYn3PDp5fZ6duf77HC8YnHDCnlB4Fjhpl+ZmjLNu15fmDwOETzU+SJEmaTk5cIkmS
JNUwYJYkSZJqGDBLkiRJNQyYJUmSpBoGzJIkSVINA2ZJkiSphgGzJEmSVMOAWZIkSaphwCxJkiTV
MGCWJEmSahgwS5IkSTUMmCVJkqQaBsySJElSDQNmSZIkqYYBsyRJklTDgFmSJEmqYcAsSZIk1TBg
liRJkmoYMEuSJEk1DJglSZKkGnMnmiDGuDnwdWAHYDXw9pTSvSO2OQE4unr5vZTSknbSSZIkSb2m
kxbmY4EbU0r7Al8FTm5dGWPcFXgL8IqU0l7AX8YYXzReOkmSJKkXdRIw7wNcWD2/EDhoxPrfA4ek
lIrq9SbAY22kkyRJknpObZeMGOO7geNHLP4jsKp6vhrYunVlSmktcH+MMQCnAjeklH4dY9wKeHCs
dJIkSVIvqg2YU0pnAWe1LosxngvMq17OA1aOTBdj3Az4EmWA/L5q8Spgq7p0kiRJUq8JRVGMv1WL
GOOJwLyUUh5jfBPwqpTScS3rA2WXi0tTSp9uN91oBgcHJ1Y4SZIkqQPz588PY63rJGDeHPgK8Ezg
ceAtKaW7q5ExfgPMAf4LuAYYzvijwE2jpZvYoUiSJElTa8IBsyRJkjSbOHGJJEmSVMOAWZIkSaph
wCxJkiTVMGCWJEmSatSOwzydYoybUI7l/BxgU+DjwC+BLwNN4GfAccMzCsYYdwCWA7unlNbEGLcG
vk455nMfcGJK6dox8no98IaU0lur13sB/wysBS5KKS0ZJc2o28QYT6Wc1XAu8H9TSl/c8L/Gxm8G
1/fHKWetLIAPppSu3vC/xsav1+u72m4O8D/AF1JKP2hZvgVwNfCR1uUa20yt7xjj6cCrgDVAllK6
dAP/FLNCr9d3jHEhsBR4Argb+NuU0qMxxu8A21fLH0kpHToJf46N3gyo71dRTqRXAJenlD5aLc+A
11Rpj08prag7zl5uYX4rcE9KaV/gr4DPAKcDJ1XLAvA6gBjjIcBFwDNa0p8AXJxS2h94R5X+KWKM
/wJ8gnVD4AF8DnhzSumVwJ4xxpeMkvQp28QYDwB2TSntDbwS+Ej1RtD4ZmJ9vwBYmFLaC3gb8K+d
HPgs1dP1HWN8LnAFsIDyS7bVZyhPAg4x1L4ZV98xxkOB3VJKL6/K9rkqqNb4erq+q/29LqW0H/Br
4Jhq+Z+llF6ZUjrAYHlCer2+zwSOTim9Anh5df5+KbBvSmlP4E1j5dmqlwPmc4D+6nmD8hffS1NK
V1TLvk/ZsgcwBCwEHmhJfybwf6vnmwCPjpHPcuBYqgqopvDeNKX0u2r9D1ryYZxtrgbe3bLpnKrc
Gt9MrO/HgS1ijJtSTvW+pt2DVe/Wd+VplJ/lH9Ly5Rxj/BBwFXDjuEeoVjOpvoftVm1PSuk+4H5g
97qD1JN6vb73Synd07r/GOMzgG1ijOfHGK+sfjCpPb1e3y9PKd0aY9yS8ly9mrJRc/jzfRswN8a4
fd1B9mzAnFJ6OKX0UIxxHmVlnMz65X2I8sBJKV2SUrp/RPoHU0qPxRh3BL4GLBojn7NHLNqKchrv
YauH8xlvm5TS4ymlldXlia8A/55SeqSNw531Zmh9/w74KfAr4GLgtHEPVEDP1zcppZtSSr+qXg63
OC6kbIE6i/ILe8wZobS+GVbfw34C/FWMcW6McVfghcAW4xyqmBH1/UeAGOORwH7AVym7ApxG2RJ6
JHBm1XVA45gB9d2sum78FLgLuIOy+8e4aVv1bB9mgBjjLsC3gM+klP4rxvjpltXzgJXjpH8R5ayD
H0wpXVlddhvuU/y1lNKXRkm2qtr3sK2AlTHG44A3UJ483zHaNlWe21K+YX6YUvpUWwcqYObVd4zx
LdX6XatlV8UYr0sp3dHWAc9yPVrfAG9NKd05Stp3Ac+JMf4QeAHwFzHGu1JKN9UfqWBG1XcASCld
HGN8GfAj4OfADcC94x+poKfr+y0ppbtiOTvxkcBfpbIf7R8oG7mawD0xxh8DzwfuQePq4fp+a0rp
zlT2if7TGONSytmn7xuRdtwy9mzAHGP8E8p+Lu9LKQ1fJvtxjHG/lNLlwKuBMW/AiDHuRhm4vjGl
9FOAlNJvgQPq8k0prYoxrqlaFH4H/CUwkMrO4E/2cRltm1hOG34pcGpK6b86OvBZaibWN/AS4KGU
UhFjfIiqi8bEj3726fX6HmE4gHprS/7/AfyXwXJ7Zlh9D+f5fOD2lNIrq2Dg+ymlX7dzvLNdr9d3
jPFjwEuBg1NKj1WLDwLeDxxaXbrfnfLGNY2jl+s7xhhijFcCh6eUVlK2dvdRdu/4dIzxNGAXoDGy
5Xukng2YgZMom8f7Y4zDfWM+APxrjLEP+AXwzRFpWm/C+QTlH+VfY4wAK1NKrx8jr2JE2vcC36Ds
g/yDNPqdk0/ZpvrF+qfA38UY/67a7p0ppf833sFqRtb3T4B9YoxXU15++ron1Lb1en2Pla86MxPr
+1bgn2KMx1Le5PmucdJpnZ6t7yq46wcGge9X+//vlNK/xxgPijFeQ9nP9qPjBVB6Us/Wd9WgdSpl
XT8O3Akck1J6pAqkr6E8f79vvIMMReG5QJIkSRpLz970J0mSJPUCA2ZJkiSphgGzJEmSVMOAWZIk
SaphwCxJkiTVMGCWJEmSavTyOMyStFGKMb6BcrapuZQNF19NKZ1WrcuBi1NKV01gf6OmiTF+mXLw
//urfAJwWkrpq+Ps73DKacDPbPugJGkjZguzJE2hGOPOwGmUs4y9BHgF8KYY42HVJvtSDsI/EWOl
KYDFKaW/SCm9GHgd8IkY48Jx9jefcppZSRK2MEvSVHs6sAnwNOCBlNLDMca/BR6v/l8AfCHGeCSw
PfBxyinXtwU+nFL6ZtVyvD3wXOCTLWlen1L6+Yj8wvCTlNLvYoz/Qjmr1aUxxv1G7h/4OeXsWUWM
8f8B51JOM/tCyqD8Uyml/57cP4kk9TZbmCVpCqWUbgS+A9wSY7wuxvhJYG5K6bdVV4nrKadu/Rnw
98C7U0rzgWMop/Qddk9KabcRaUYGy6P5OfCC6vlT9p9S+iXwOeBzKaWvACcD16eUFgD7AR+LMf7p
hv0VJGlmMWCWpCmWUnof8BzKwPQ5wLUxxte3bDLcKvw3wB4xxpOBEylbpaHsanHdiN0G2lMAj46z
/9Cyv4OA98YYfwxcTtkavVubeUnSRsEuGZI0hWKMhwJbpJTOAb4MfDnGeAzwbuC8arOi+v8q4FLg
R9X//9myq8dG7LpgdCOX70HZyjze/ofTNYC3ppR+UpV/R+C+sY5PkjZGtjBL0tR6GDglxvhsgBhj
oOwffEO1fi2wSYxxO+B5QJZSuhA4hHU39o1sTV5L2S96NE9uG2N8HmX/5c+Ns/8nWvZ3WZWGGOMz
gR8Dz5rgMUvSjGbALElTKKX0I2AJsCzG+Evgl5RB7ZJqkwuBzwMR+CLw8xjjcuAhYNMY4xaUrb+t
LccXAp+PMe41SpZLYow/jjHeAHwDODGldG1K6f4x9r85cAXw1hjjcUAObB5j/CllK/SHU0q/m6y/
hyTNBKEoxrqKJ0mSJMkWZkmSJKmGAbMkSZJUw4BZkiRJqmHALEmSJNUwYJYkSZJqGDBLkiRJNQyY
JUmSpBoGzJIkSVKN/x+yQ3SNw2ielwAAAABJRU5ErkJggg==
"
>
</div>

</div>

</div>
</div>

</div>
<div class="cell border-box-sizing text_cell rendered">
<div class="prompt input_prompt">
</div>
<div class="inner_cell">
<div class="text_cell_render border-box-sizing rendered_html">
<p>Surprisingly, thse polls reflect a dip for Obama after the second debate against Romney, even though memory serves that he performed much worse against Romney during the first debate.</p>

</div>
</div>
</div>
<div class="cell border-box-sizing text_cell rendered">
<div class="prompt input_prompt">
</div>
<div class="inner_cell">
<div class="text_cell_render border-box-sizing rendered_html">
<p>For all these polls it is important to remeber how geographical location can effect the value of a poll in predicting the outcomes of a national election.</p>
<h1 id="Donor-Data-Set">Donor Data Set<a class="anchor-link" href="#Donor-Data-Set">&#182;</a></h1><p>Let's go ahead and switch gears and take a look at a data set consisting of information on donations to the federal campaign.</p>
<p>This is going to be the biggest data set we've looked at so far. You can download it <a href="https://www.dropbox.com/s/l29oppon2veaq4n/Election_Donor_Data.csv?dl=0">here</a> , then make sure to save it to the same folder your iPython Notebooks are in.</p>
<p>The questions we will be trying to answer while looking at this Data Set is:</p>

<pre><code>1.) How much was donated and what was the average donation?
2.) How did the donations differ between candidates?
3.) How did the donations differ between Democrats and Republicans?
4.) What were the demographics of the donors?
5.) Is there a pattern to donation amounts?</code></pre>

</div>
</div>
</div>
<div class="cell border-box-sizing code_cell rendered">
<div class="input">
<div class="prompt input_prompt">In&nbsp;[622]:</div>
<div class="inner_cell">
    <div class="input_area">
<div class=" highlight hl-ipython2"><pre><span></span><span class="c1"># Set the DataFrame as the csv file</span>
<span class="n">donor_df</span> <span class="o">=</span> <span class="n">pd</span><span class="o">.</span><span class="n">read_csv</span><span class="p">(</span><span class="s1">&#39;Election_Donor_Data.csv&#39;</span><span class="p">)</span>
</pre></div>

</div>
</div>
</div>

</div>
<div class="cell border-box-sizing code_cell rendered">
<div class="input">
<div class="prompt input_prompt">In&nbsp;[623]:</div>
<div class="inner_cell">
    <div class="input_area">
<div class=" highlight hl-ipython2"><pre><span></span><span class="c1"># Get a quick overview</span>
<span class="n">donor_df</span><span class="o">.</span><span class="n">info</span><span class="p">()</span>
</pre></div>

</div>
</div>
</div>

<div class="output_wrapper">
<div class="output">


<div class="output_area"><div class="prompt"></div>
<div class="output_subarea output_stream output_stdout output_text">
<pre>&lt;class &#39;pandas.core.frame.DataFrame&#39;&gt;
Int64Index: 1001731 entries, 0 to 1001730
Data columns (total 16 columns):
cmte_id              1001731 non-null object
cand_id              1001731 non-null object
cand_nm              1001731 non-null object
contbr_nm            1001731 non-null object
contbr_city          1001712 non-null object
contbr_st            1001727 non-null object
contbr_zip           1001620 non-null object
contbr_employer      988002 non-null object
contbr_occupation    993301 non-null object
contb_receipt_amt    1001731 non-null float64
contb_receipt_dt     1001731 non-null object
receipt_desc         14166 non-null object
memo_cd              92482 non-null object
memo_text            97770 non-null object
form_tp              1001731 non-null object
file_num             1001731 non-null int64
dtypes: float64(1), int64(1), object(14)
memory usage: 129.9+ MB
</pre>
</div>
</div>

</div>
</div>

</div>
<div class="cell border-box-sizing code_cell rendered">
<div class="input">
<div class="prompt input_prompt">In&nbsp;[624]:</div>
<div class="inner_cell">
    <div class="input_area">
<div class=" highlight hl-ipython2"><pre><span></span><span class="c1"># let&#39;s also just take a glimpse</span>
<span class="n">donor_df</span><span class="o">.</span><span class="n">head</span><span class="p">()</span>
</pre></div>

</div>
</div>
</div>

<div class="output_wrapper">
<div class="output">


<div class="output_area"><div class="prompt output_prompt">Out[624]:</div>

<div class="output_html rendered_html output_subarea output_execute_result">
<div style="max-height:1000px;max-width:1500px;overflow:auto;">
<table border="1" class="dataframe">
  <thead>
    <tr style="text-align: right;">
      <th></th>
      <th>cmte_id</th>
      <th>cand_id</th>
      <th>cand_nm</th>
      <th>contbr_nm</th>
      <th>contbr_city</th>
      <th>contbr_st</th>
      <th>contbr_zip</th>
      <th>contbr_employer</th>
      <th>contbr_occupation</th>
      <th>contb_receipt_amt</th>
      <th>contb_receipt_dt</th>
      <th>receipt_desc</th>
      <th>memo_cd</th>
      <th>memo_text</th>
      <th>form_tp</th>
      <th>file_num</th>
    </tr>
  </thead>
  <tbody>
    <tr>
      <th>0</th>
      <td> C00410118</td>
      <td> P20002978</td>
      <td> Bachmann, Michelle</td>
      <td>    HARVEY, WILLIAM</td>
      <td>             MOBILE</td>
      <td> AL</td>
      <td> 3.660103e+08</td>
      <td>               RETIRED</td>
      <td>               RETIRED</td>
      <td> 250</td>
      <td> 20-JUN-11</td>
      <td> NaN</td>
      <td> NaN</td>
      <td> NaN</td>
      <td> SA17A</td>
      <td> 736166</td>
    </tr>
    <tr>
      <th>1</th>
      <td> C00410118</td>
      <td> P20002978</td>
      <td> Bachmann, Michelle</td>
      <td>    HARVEY, WILLIAM</td>
      <td>             MOBILE</td>
      <td> AL</td>
      <td> 3.660103e+08</td>
      <td>               RETIRED</td>
      <td>               RETIRED</td>
      <td>  50</td>
      <td> 23-JUN-11</td>
      <td> NaN</td>
      <td> NaN</td>
      <td> NaN</td>
      <td> SA17A</td>
      <td> 736166</td>
    </tr>
    <tr>
      <th>2</th>
      <td> C00410118</td>
      <td> P20002978</td>
      <td> Bachmann, Michelle</td>
      <td>      SMITH, LANIER</td>
      <td>             LANETT</td>
      <td> AL</td>
      <td> 3.686334e+08</td>
      <td> INFORMATION REQUESTED</td>
      <td> INFORMATION REQUESTED</td>
      <td> 250</td>
      <td> 05-JUL-11</td>
      <td> NaN</td>
      <td> NaN</td>
      <td> NaN</td>
      <td> SA17A</td>
      <td> 749073</td>
    </tr>
    <tr>
      <th>3</th>
      <td> C00410118</td>
      <td> P20002978</td>
      <td> Bachmann, Michelle</td>
      <td>   BLEVINS, DARONDA</td>
      <td>            PIGGOTT</td>
      <td> AR</td>
      <td> 7.245483e+08</td>
      <td>                  NONE</td>
      <td>               RETIRED</td>
      <td> 250</td>
      <td> 01-AUG-11</td>
      <td> NaN</td>
      <td> NaN</td>
      <td> NaN</td>
      <td> SA17A</td>
      <td> 749073</td>
    </tr>
    <tr>
      <th>4</th>
      <td> C00410118</td>
      <td> P20002978</td>
      <td> Bachmann, Michelle</td>
      <td> WARDENBURG, HAROLD</td>
      <td> HOT SPRINGS NATION</td>
      <td> AR</td>
      <td> 7.190165e+08</td>
      <td>                  NONE</td>
      <td>               RETIRED</td>
      <td> 300</td>
      <td> 20-JUN-11</td>
      <td> NaN</td>
      <td> NaN</td>
      <td> NaN</td>
      <td> SA17A</td>
      <td> 736166</td>
    </tr>
  </tbody>
</table>
</div>
</div>

</div>

</div>
</div>

</div>
<div class="cell border-box-sizing text_cell rendered">
<div class="prompt input_prompt">
</div>
<div class="inner_cell">
<div class="text_cell_render border-box-sizing rendered_html">
<p>What might be interesting to do is get a quick glimpse of the donation amounts, and the average donation amount. Let's go ahead and break down the data.</p>

</div>
</div>
</div>
<div class="cell border-box-sizing code_cell rendered">
<div class="input">
<div class="prompt input_prompt">In&nbsp;[625]:</div>
<div class="inner_cell">
    <div class="input_area">
<div class=" highlight hl-ipython2"><pre><span></span><span class="c1"># Get a quick look at the various donation amounts</span>
<span class="n">donor_df</span><span class="p">[</span><span class="s1">&#39;contb_receipt_amt&#39;</span><span class="p">]</span><span class="o">.</span><span class="n">value_counts</span><span class="p">()</span>
</pre></div>

</div>
</div>
</div>

<div class="output_wrapper">
<div class="output">


<div class="output_area"><div class="prompt output_prompt">Out[625]:</div>


<div class="output_text output_subarea output_execute_result">
<pre>100.0     178188
50.0      137584
25.0      110345
250.0      91182
500.0      57984
2500.0     49005
35.0       37237
1000.0     36494
10.0       33986
200.0      27813
20.0       17565
15.0       16163
150.0      14600
75.0       13647
201.2      11718
...
0.88      1
19.35     1
58.18     1
71.20     1
70.68     1
163.90    1
14.97     1
264.39    1
162.60    1
81.15     1
45.15     1
106.56    1
62.20     1
58.82     1
73.83     1
Length: 8079, dtype: int64</pre>
</div>

</div>

</div>
</div>

</div>
<div class="cell border-box-sizing text_cell rendered">
<div class="prompt input_prompt">
</div>
<div class="inner_cell">
<div class="text_cell_render border-box-sizing rendered_html">
<p>8079 different amounts! Thats quite a variation. Let's look at the average and the std.</p>

</div>
</div>
</div>
<div class="cell border-box-sizing code_cell rendered">
<div class="input">
<div class="prompt input_prompt">In&nbsp;[626]:</div>
<div class="inner_cell">
    <div class="input_area">
<div class=" highlight hl-ipython2"><pre><span></span><span class="c1"># Get the mean donation</span>
<span class="n">don_mean</span> <span class="o">=</span> <span class="n">donor_df</span><span class="p">[</span><span class="s1">&#39;contb_receipt_amt&#39;</span><span class="p">]</span><span class="o">.</span><span class="n">mean</span><span class="p">()</span>

<span class="c1"># Get the std of the donation</span>
<span class="n">don_std</span> <span class="o">=</span> <span class="n">donor_df</span><span class="p">[</span><span class="s1">&#39;contb_receipt_amt&#39;</span><span class="p">]</span><span class="o">.</span><span class="n">std</span><span class="p">()</span>

<span class="k">print</span> <span class="s1">&#39;The average donation was </span><span class="si">%.2f</span><span class="s1"> with a std of </span><span class="si">%.2f</span><span class="s1">&#39;</span> <span class="o">%</span><span class="p">(</span><span class="n">don_mean</span><span class="p">,</span><span class="n">don_std</span><span class="p">)</span>
</pre></div>

</div>
</div>
</div>

<div class="output_wrapper">
<div class="output">


<div class="output_area"><div class="prompt"></div>
<div class="output_subarea output_stream output_stdout output_text">
<pre>The average donation was 298.24 with a std of 3749.67
</pre>
</div>
</div>

</div>
</div>

</div>
<div class="cell border-box-sizing text_cell rendered">
<div class="prompt input_prompt">
</div>
<div class="inner_cell">
<div class="text_cell_render border-box-sizing rendered_html">
<p>Wow! That's a huge standard deviation! Let's see if there are any large donations or other factors messing with the distribution of the donations.</p>

</div>
</div>
</div>
<div class="cell border-box-sizing code_cell rendered">
<div class="input">
<div class="prompt input_prompt">In&nbsp;[627]:</div>
<div class="inner_cell">
    <div class="input_area">
<div class=" highlight hl-ipython2"><pre><span></span><span class="c1"># Let&#39;s make a Series from the DataFrame, use .copy() to avoid view errors</span>
<span class="n">top_donor</span> <span class="o">=</span> <span class="n">donor_df</span><span class="p">[</span><span class="s1">&#39;contb_receipt_amt&#39;</span><span class="p">]</span><span class="o">.</span><span class="n">copy</span><span class="p">()</span>

<span class="c1"># Now sort it</span>
<span class="n">top_donor</span><span class="o">.</span><span class="n">sort</span><span class="p">()</span>

<span class="c1"># Then check the Series</span>
<span class="n">top_donor</span>
</pre></div>

</div>
</div>
</div>

<div class="output_wrapper">
<div class="output">


<div class="output_area"><div class="prompt output_prompt">Out[627]:</div>


<div class="output_text output_subarea output_execute_result">
<pre>114604   -30800.00
226986   -25800.00
101356    -7500.00
398429    -5500.00
250737    -5455.00
33821     -5414.31
908565    -5115.00
456649    -5000.00
574657    -5000.00
30513     -5000.00
562267    -5000.00
30584     -5000.00
86268     -5000.00
708920    -5000.00
665887    -5000.00
...
90076       10000.00
709859      10000.00
41888       10000.00
65131       12700.00
834301      25000.00
823345      25000.00
217891      25800.00
114754      33300.00
257270     451726.00
335187     512710.91
319478     526246.17
344419    1511192.17
344539    1679114.65
326651    1944042.43
325136    2014490.51
Name: contb_receipt_amt, Length: 1001731, dtype: float64</pre>
</div>

</div>

</div>
</div>

</div>
<div class="cell border-box-sizing text_cell rendered">
<div class="prompt input_prompt">
</div>
<div class="inner_cell">
<div class="text_cell_render border-box-sizing rendered_html">
<p>Looks like we have some negative values, as well as some huge donation amounts! The negative values are due to the FEC recording refunds as well as donations, let's go ahead and only look at the positive contribution amounts</p>

</div>
</div>
</div>
<div class="cell border-box-sizing code_cell rendered">
<div class="input">
<div class="prompt input_prompt">In&nbsp;[628]:</div>
<div class="inner_cell">
    <div class="input_area">
<div class=" highlight hl-ipython2"><pre><span></span><span class="c1"># Get rid of the negative values</span>
<span class="n">top_donor</span> <span class="o">=</span> <span class="n">top_donor</span><span class="p">[</span><span class="n">top_donor</span> <span class="o">&gt;</span><span class="mi">0</span><span class="p">]</span>

<span class="c1"># Sort the Series</span>
<span class="n">top_donor</span><span class="o">.</span><span class="n">sort</span><span class="p">()</span>

<span class="c1"># Look at the top 10 most common donations value counts</span>
<span class="n">top_donor</span><span class="o">.</span><span class="n">value_counts</span><span class="p">()</span><span class="o">.</span><span class="n">head</span><span class="p">(</span><span class="mi">10</span><span class="p">)</span>
</pre></div>

</div>
</div>
</div>

<div class="output_wrapper">
<div class="output">


<div class="output_area"><div class="prompt output_prompt">Out[628]:</div>


<div class="output_text output_subarea output_execute_result">
<pre>100     178188
50      137584
25      110345
250      91182
500      57984
2500     49005
35       37237
1000     36494
10       33986
200      27813
dtype: int64</pre>
</div>

</div>

</div>
</div>

</div>
<div class="cell border-box-sizing text_cell rendered">
<div class="prompt input_prompt">
</div>
<div class="inner_cell">
<div class="text_cell_render border-box-sizing rendered_html">
<p>Here we can see that the top 10 most common donations ranged from 10 to 2500 dollars.</p>

</div>
</div>
</div>
<div class="cell border-box-sizing text_cell rendered">
<div class="prompt input_prompt">
</div>
<div class="inner_cell">
<div class="text_cell_render border-box-sizing rendered_html">
<p>A quick question we could verify is if donations are usually made in round number amounts? (e.g. 10,20,50,100,500 etc.) We can quickly visualize this by making a histogram and checking for peaks at those values. Let's go ahead and do this for the most common amounts, up to 2500 dollars.</p>

</div>
</div>
</div>
<div class="cell border-box-sizing code_cell rendered">
<div class="input">
<div class="prompt input_prompt">In&nbsp;[629]:</div>
<div class="inner_cell">
    <div class="input_area">
<div class=" highlight hl-ipython2"><pre><span></span><span class="c1"># Create a Series of the common donations limited to 2500</span>
<span class="n">com_don</span> <span class="o">=</span> <span class="n">top_donor</span><span class="p">[</span><span class="n">top_donor</span> <span class="o">&lt;</span> <span class="mi">2500</span><span class="p">]</span>

<span class="c1"># Set a high number of bins to account for the non-round donations and check histogram for spikes.</span>
<span class="n">com_don</span><span class="o">.</span><span class="n">hist</span><span class="p">(</span><span class="n">bins</span><span class="o">=</span><span class="mi">100</span><span class="p">)</span>
</pre></div>

</div>
</div>
</div>

<div class="output_wrapper">
<div class="output">


<div class="output_area"><div class="prompt output_prompt">Out[629]:</div>


<div class="output_text output_subarea output_execute_result">
<pre>&lt;matplotlib.axes._subplots.AxesSubplot at 0xdf456d68&gt;</pre>
</div>

</div>

<div class="output_area"><div class="prompt"></div>


<div class="output_png output_subarea ">
<img src="data:image/png;base64,iVBORw0KGgoAAAANSUhEUgAAAY8AAAECCAYAAAAGtFvhAAAABHNCSVQICAgIfAhkiAAAAAlwSFlz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"
>
</div>

</div>

</div>
</div>

</div>
<div class="cell border-box-sizing text_cell rendered">
<div class="prompt input_prompt">
</div>
<div class="inner_cell">
<div class="text_cell_render border-box-sizing rendered_html">
<p>Looks like our intuition was right, since we spikes at the round numbers.</p>

</div>
</div>
</div>
<div class="cell border-box-sizing text_cell rendered">
<div class="prompt input_prompt">
</div>
<div class="inner_cell">
<div class="text_cell_render border-box-sizing rendered_html">
<p>Let's dive deeper into the data and see if we can seperate donations by Party, in order to do this we'll have to figure out a way of creating a new 'Party' column. We can do this by starting with the candidates and their affliliation. Now let's go ahead and get a list of candidates</p>

</div>
</div>
</div>
<div class="cell border-box-sizing code_cell rendered">
<div class="input">
<div class="prompt input_prompt">In&nbsp;[630]:</div>
<div class="inner_cell">
    <div class="input_area">
<div class=" highlight hl-ipython2"><pre><span></span><span class="c1"># Grab the unique object from the candidate column</span>
<span class="n">candidates</span> <span class="o">=</span> <span class="n">donor_df</span><span class="o">.</span><span class="n">cand_nm</span><span class="o">.</span><span class="n">unique</span><span class="p">()</span>
<span class="c1">#Show</span>
<span class="n">candidates</span>
</pre></div>

</div>
</div>
</div>

<div class="output_wrapper">
<div class="output">


<div class="output_area"><div class="prompt output_prompt">Out[630]:</div>


<div class="output_text output_subarea output_execute_result">
<pre>array([&#39;Bachmann, Michelle&#39;, &#39;Romney, Mitt&#39;, &#39;Obama, Barack&#39;,
       &#34;Roemer, Charles E. &#39;Buddy&#39; III&#34;, &#39;Pawlenty, Timothy&#39;,
       &#39;Johnson, Gary Earl&#39;, &#39;Paul, Ron&#39;, &#39;Santorum, Rick&#39;, &#39;Cain, Herman&#39;,
       &#39;Gingrich, Newt&#39;, &#39;McCotter, Thaddeus G&#39;, &#39;Huntsman, Jon&#39;,
       &#39;Perry, Rick&#39;], dtype=object)</pre>
</div>

</div>

</div>
</div>

</div>
<div class="cell border-box-sizing text_cell rendered">
<div class="prompt input_prompt">
</div>
<div class="inner_cell">
<div class="text_cell_render border-box-sizing rendered_html">
<p>Let's go ahead and seperate Obama from the Republican Candidates by adding a Party Affiliation column. We can do this by using map along a dictionary of party affiliations. Lecture 36 has a review of this topic.</p>

</div>
</div>
</div>
<div class="cell border-box-sizing code_cell rendered">
<div class="input">
<div class="prompt input_prompt">In&nbsp;[631]:</div>
<div class="inner_cell">
    <div class="input_area">
<div class=" highlight hl-ipython2"><pre><span></span><span class="c1"># Dictionary of party affiliation</span>
<span class="n">party_map</span> <span class="o">=</span> <span class="p">{</span><span class="s1">&#39;Bachmann, Michelle&#39;</span><span class="p">:</span> <span class="s1">&#39;Republican&#39;</span><span class="p">,</span>
           <span class="s1">&#39;Cain, Herman&#39;</span><span class="p">:</span> <span class="s1">&#39;Republican&#39;</span><span class="p">,</span>
           <span class="s1">&#39;Gingrich, Newt&#39;</span><span class="p">:</span> <span class="s1">&#39;Republican&#39;</span><span class="p">,</span>
           <span class="s1">&#39;Huntsman, Jon&#39;</span><span class="p">:</span> <span class="s1">&#39;Republican&#39;</span><span class="p">,</span>
           <span class="s1">&#39;Johnson, Gary Earl&#39;</span><span class="p">:</span> <span class="s1">&#39;Republican&#39;</span><span class="p">,</span>
           <span class="s1">&#39;McCotter, Thaddeus G&#39;</span><span class="p">:</span> <span class="s1">&#39;Republican&#39;</span><span class="p">,</span>
           <span class="s1">&#39;Obama, Barack&#39;</span><span class="p">:</span> <span class="s1">&#39;Democrat&#39;</span><span class="p">,</span>
           <span class="s1">&#39;Paul, Ron&#39;</span><span class="p">:</span> <span class="s1">&#39;Republican&#39;</span><span class="p">,</span>
           <span class="s1">&#39;Pawlenty, Timothy&#39;</span><span class="p">:</span> <span class="s1">&#39;Republican&#39;</span><span class="p">,</span>
           <span class="s1">&#39;Perry, Rick&#39;</span><span class="p">:</span> <span class="s1">&#39;Republican&#39;</span><span class="p">,</span>
           <span class="s2">&quot;Roemer, Charles E. &#39;Buddy&#39; III&quot;</span><span class="p">:</span> <span class="s1">&#39;Republican&#39;</span><span class="p">,</span>
           <span class="s1">&#39;Romney, Mitt&#39;</span><span class="p">:</span> <span class="s1">&#39;Republican&#39;</span><span class="p">,</span>
           <span class="s1">&#39;Santorum, Rick&#39;</span><span class="p">:</span> <span class="s1">&#39;Republican&#39;</span><span class="p">}</span>

<span class="c1"># Now map the party with candidate</span>
<span class="n">donor_df</span><span class="p">[</span><span class="s1">&#39;Party&#39;</span><span class="p">]</span> <span class="o">=</span> <span class="n">donor_df</span><span class="o">.</span><span class="n">cand_nm</span><span class="o">.</span><span class="n">map</span><span class="p">(</span><span class="n">party_map</span><span class="p">)</span>
</pre></div>

</div>
</div>
</div>

</div>
<div class="cell border-box-sizing text_cell rendered">
<div class="prompt input_prompt">
</div>
<div class="inner_cell">
<div class="text_cell_render border-box-sizing rendered_html">
<p>A quick note, we could have done this same operation manually using a for loop, however this operation would be much slower than using the map method.</p>

</div>
</div>
</div>
<div class="cell border-box-sizing code_cell rendered">
<div class="input">
<div class="prompt input_prompt">In&nbsp;[632]:</div>
<div class="inner_cell">
    <div class="input_area">
<div class=" highlight hl-ipython2"><pre><span></span><span class="sd">&#39;&#39;&#39;</span>
<span class="sd">for i in xrange(0,len(donor_df)):</span>
<span class="sd">    if donor_df[&#39;cand_nm&#39;][i] == &#39;Obama,Barack&#39;:</span>
<span class="sd">        donor_df[&#39;Party&#39;][i] = &#39;Democrat&#39;</span>
<span class="sd">    else:</span>
<span class="sd">        donor_df[&#39;Party&#39;][i] = &#39;Republican&#39;</span>
<span class="sd">&#39;&#39;&#39;</span>
</pre></div>

</div>
</div>
</div>

<div class="output_wrapper">
<div class="output">


<div class="output_area"><div class="prompt output_prompt">Out[632]:</div>


<div class="output_text output_subarea output_execute_result">
<pre>&#34;\nfor i in xrange(0,len(donor_df)):\n    if donor_df[&#39;cand_nm&#39;][i] == &#39;Obama,Barack&#39;:\n        donor_df[&#39;Party&#39;][i] = &#39;Democrat&#39;\n    else:\n        donor_df[&#39;Party&#39;][i] = &#39;Republican&#39;\n&#34;</pre>
</div>

</div>

</div>
</div>

</div>
<div class="cell border-box-sizing text_cell rendered">
<div class="prompt input_prompt">
</div>
<div class="inner_cell">
<div class="text_cell_render border-box-sizing rendered_html">
<p>Let's look at our DataFrame and also make sure we clear refunds from the contribution amounts.</p>

</div>
</div>
</div>
<div class="cell border-box-sizing code_cell rendered">
<div class="input">
<div class="prompt input_prompt">In&nbsp;[633]:</div>
<div class="inner_cell">
    <div class="input_area">
<div class=" highlight hl-ipython2"><pre><span></span><span class="c1"># Clear refunds</span>
<span class="n">donor_df</span> <span class="o">=</span> <span class="n">donor_df</span><span class="p">[</span><span class="n">donor_df</span><span class="o">.</span><span class="n">contb_receipt_amt</span> <span class="o">&gt;</span><span class="mi">0</span><span class="p">]</span>

<span class="c1"># Preview DataFrame</span>
<span class="n">donor_df</span><span class="o">.</span><span class="n">head</span><span class="p">()</span>
</pre></div>

</div>
</div>
</div>

<div class="output_wrapper">
<div class="output">


<div class="output_area"><div class="prompt output_prompt">Out[633]:</div>

<div class="output_html rendered_html output_subarea output_execute_result">
<div style="max-height:1000px;max-width:1500px;overflow:auto;">
<table border="1" class="dataframe">
  <thead>
    <tr style="text-align: right;">
      <th></th>
      <th>cmte_id</th>
      <th>cand_id</th>
      <th>cand_nm</th>
      <th>contbr_nm</th>
      <th>contbr_city</th>
      <th>contbr_st</th>
      <th>contbr_zip</th>
      <th>contbr_employer</th>
      <th>contbr_occupation</th>
      <th>contb_receipt_amt</th>
      <th>contb_receipt_dt</th>
      <th>receipt_desc</th>
      <th>memo_cd</th>
      <th>memo_text</th>
      <th>form_tp</th>
      <th>file_num</th>
      <th>Party</th>
    </tr>
  </thead>
  <tbody>
    <tr>
      <th>0</th>
      <td> C00410118</td>
      <td> P20002978</td>
      <td> Bachmann, Michelle</td>
      <td>    HARVEY, WILLIAM</td>
      <td>             MOBILE</td>
      <td> AL</td>
      <td> 3.660103e+08</td>
      <td>               RETIRED</td>
      <td>               RETIRED</td>
      <td> 250</td>
      <td> 20-JUN-11</td>
      <td> NaN</td>
      <td> NaN</td>
      <td> NaN</td>
      <td> SA17A</td>
      <td> 736166</td>
      <td> Republican</td>
    </tr>
    <tr>
      <th>1</th>
      <td> C00410118</td>
      <td> P20002978</td>
      <td> Bachmann, Michelle</td>
      <td>    HARVEY, WILLIAM</td>
      <td>             MOBILE</td>
      <td> AL</td>
      <td> 3.660103e+08</td>
      <td>               RETIRED</td>
      <td>               RETIRED</td>
      <td>  50</td>
      <td> 23-JUN-11</td>
      <td> NaN</td>
      <td> NaN</td>
      <td> NaN</td>
      <td> SA17A</td>
      <td> 736166</td>
      <td> Republican</td>
    </tr>
    <tr>
      <th>2</th>
      <td> C00410118</td>
      <td> P20002978</td>
      <td> Bachmann, Michelle</td>
      <td>      SMITH, LANIER</td>
      <td>             LANETT</td>
      <td> AL</td>
      <td> 3.686334e+08</td>
      <td> INFORMATION REQUESTED</td>
      <td> INFORMATION REQUESTED</td>
      <td> 250</td>
      <td> 05-JUL-11</td>
      <td> NaN</td>
      <td> NaN</td>
      <td> NaN</td>
      <td> SA17A</td>
      <td> 749073</td>
      <td> Republican</td>
    </tr>
    <tr>
      <th>3</th>
      <td> C00410118</td>
      <td> P20002978</td>
      <td> Bachmann, Michelle</td>
      <td>   BLEVINS, DARONDA</td>
      <td>            PIGGOTT</td>
      <td> AR</td>
      <td> 7.245483e+08</td>
      <td>                  NONE</td>
      <td>               RETIRED</td>
      <td> 250</td>
      <td> 01-AUG-11</td>
      <td> NaN</td>
      <td> NaN</td>
      <td> NaN</td>
      <td> SA17A</td>
      <td> 749073</td>
      <td> Republican</td>
    </tr>
    <tr>
      <th>4</th>
      <td> C00410118</td>
      <td> P20002978</td>
      <td> Bachmann, Michelle</td>
      <td> WARDENBURG, HAROLD</td>
      <td> HOT SPRINGS NATION</td>
      <td> AR</td>
      <td> 7.190165e+08</td>
      <td>                  NONE</td>
      <td>               RETIRED</td>
      <td> 300</td>
      <td> 20-JUN-11</td>
      <td> NaN</td>
      <td> NaN</td>
      <td> NaN</td>
      <td> SA17A</td>
      <td> 736166</td>
      <td> Republican</td>
    </tr>
  </tbody>
</table>
</div>
</div>

</div>

</div>
</div>

</div>
<div class="cell border-box-sizing text_cell rendered">
<div class="prompt input_prompt">
</div>
<div class="inner_cell">
<div class="text_cell_render border-box-sizing rendered_html">
<p>Let's start by aggregating the data by candidate. We'll take a quick look a the total amounts received by each candidate. First we will look a the total number of donations and then at the total amount.</p>

</div>
</div>
</div>
<div class="cell border-box-sizing code_cell rendered">
<div class="input">
<div class="prompt input_prompt">In&nbsp;[634]:</div>
<div class="inner_cell">
    <div class="input_area">
<div class=" highlight hl-ipython2"><pre><span></span><span class="c1"># Groupby candidate and then displayt the total number of people who donated</span>
<span class="n">donor_df</span><span class="o">.</span><span class="n">groupby</span><span class="p">(</span><span class="s1">&#39;cand_nm&#39;</span><span class="p">)[</span><span class="s1">&#39;contb_receipt_amt&#39;</span><span class="p">]</span><span class="o">.</span><span class="n">count</span><span class="p">()</span>
</pre></div>

</div>
</div>
</div>

<div class="output_wrapper">
<div class="output">


<div class="output_area"><div class="prompt output_prompt">Out[634]:</div>


<div class="output_text output_subarea output_execute_result">
<pre>cand_nm
Bachmann, Michelle                 13082
Cain, Herman                       20052
Gingrich, Newt                     46883
Huntsman, Jon                       4066
Johnson, Gary Earl                  1234
McCotter, Thaddeus G                  73
Obama, Barack                     589127
Paul, Ron                         143161
Pawlenty, Timothy                   3844
Perry, Rick                        12709
Roemer, Charles E. &#39;Buddy&#39; III      5844
Romney, Mitt                      105155
Santorum, Rick                     46245
Name: contb_receipt_amt, dtype: int64</pre>
</div>

</div>

</div>
</div>

</div>
<div class="cell border-box-sizing text_cell rendered">
<div class="prompt input_prompt">
</div>
<div class="inner_cell">
<div class="text_cell_render border-box-sizing rendered_html">
<p>Clearly Obama is the front-runner in number of people donating, which makes sense, since he is not competeing with any other democratic nominees. Let's take a look at the total dollar amounts.</p>

</div>
</div>
</div>
<div class="cell border-box-sizing code_cell rendered">
<div class="input">
<div class="prompt input_prompt">In&nbsp;[635]:</div>
<div class="inner_cell">
    <div class="input_area">
<div class=" highlight hl-ipython2"><pre><span></span><span class="c1"># Groupby candidate and then displayt the total amount donated</span>
<span class="n">donor_df</span><span class="o">.</span><span class="n">groupby</span><span class="p">(</span><span class="s1">&#39;cand_nm&#39;</span><span class="p">)[</span><span class="s1">&#39;contb_receipt_amt&#39;</span><span class="p">]</span><span class="o">.</span><span class="n">sum</span><span class="p">()</span>
</pre></div>

</div>
</div>
</div>

<div class="output_wrapper">
<div class="output">


<div class="output_area"><div class="prompt output_prompt">Out[635]:</div>


<div class="output_text output_subarea output_execute_result">
<pre>cand_nm
Bachmann, Michelle                2.711439e+06
Cain, Herman                      7.101082e+06
Gingrich, Newt                    1.283277e+07
Huntsman, Jon                     3.330373e+06
Johnson, Gary Earl                5.669616e+05
McCotter, Thaddeus G              3.903000e+04
Obama, Barack                     1.358774e+08
Paul, Ron                         2.100962e+07
Pawlenty, Timothy                 6.004819e+06
Perry, Rick                       2.030575e+07
Roemer, Charles E. &#39;Buddy&#39; III    3.730099e+05
Romney, Mitt                      8.833591e+07
Santorum, Rick                    1.104316e+07
Name: contb_receipt_amt, dtype: float64</pre>
</div>

</div>

</div>
</div>

</div>
<div class="cell border-box-sizing text_cell rendered">
<div class="prompt input_prompt">
</div>
<div class="inner_cell">
<div class="text_cell_render border-box-sizing rendered_html">
<p>This isn't super readable, and an important aspect of data science is to clearly present information. Let's go ahead and just print out these values in a clean for loop.</p>

</div>
</div>
</div>
<div class="cell border-box-sizing code_cell rendered">
<div class="input">
<div class="prompt input_prompt">In&nbsp;[636]:</div>
<div class="inner_cell">
    <div class="input_area">
<div class=" highlight hl-ipython2"><pre><span></span><span class="c1"># Start by setting the groupby as an object</span>
<span class="n">cand_amount</span> <span class="o">=</span> <span class="n">donor_df</span><span class="o">.</span><span class="n">groupby</span><span class="p">(</span><span class="s1">&#39;cand_nm&#39;</span><span class="p">)[</span><span class="s1">&#39;contb_receipt_amt&#39;</span><span class="p">]</span><span class="o">.</span><span class="n">sum</span><span class="p">()</span>

<span class="c1"># Our index tracker</span>
<span class="n">i</span> <span class="o">=</span> <span class="mi">0</span>

<span class="k">for</span> <span class="n">don</span> <span class="ow">in</span> <span class="n">cand_amount</span><span class="p">:</span>
    <span class="k">print</span> <span class="s2">&quot; The candidate </span><span class="si">%s</span><span class="s2"> raised </span><span class="si">%.0f</span><span class="s2"> dollars &quot;</span> <span class="o">%</span><span class="p">(</span><span class="n">cand_amount</span><span class="o">.</span><span class="n">index</span><span class="p">[</span><span class="n">i</span><span class="p">],</span><span class="n">don</span><span class="p">)</span>
    <span class="k">print</span> <span class="s1">&#39;</span><span class="se">\n</span><span class="s1">&#39;</span>
    <span class="n">i</span> <span class="o">+=</span> <span class="mi">1</span>
</pre></div>

</div>
</div>
</div>

<div class="output_wrapper">
<div class="output">


<div class="output_area"><div class="prompt"></div>
<div class="output_subarea output_stream output_stdout output_text">
<pre> The candidate Bachmann, Michelle raised 2711439 dollars 


 The candidate Cain, Herman raised 7101082 dollars 


 The candidate Gingrich, Newt raised 12832770 dollars 


 The candidate Huntsman, Jon raised 3330373 dollars 


 The candidate Johnson, Gary Earl raised 566962 dollars 


 The candidate McCotter, Thaddeus G raised 39030 dollars 


 The candidate Obama, Barack raised 135877427 dollars 


 The candidate Paul, Ron raised 21009620 dollars 


 The candidate Pawlenty, Timothy raised 6004819 dollars 


 The candidate Perry, Rick raised 20305754 dollars 


 The candidate Roemer, Charles E. &#39;Buddy&#39; III raised 373010 dollars 


 The candidate Romney, Mitt raised 88335908 dollars 


 The candidate Santorum, Rick raised 11043159 dollars 


</pre>
</div>
</div>

</div>
</div>

</div>
<div class="cell border-box-sizing text_cell rendered">
<div class="prompt input_prompt">
</div>
<div class="inner_cell">
<div class="text_cell_render border-box-sizing rendered_html">
<p>This is okay, but its hard to do a quick comparison just by reading this information. How about just a quick graphic presentation?</p>

</div>
</div>
</div>
<div class="cell border-box-sizing code_cell rendered">
<div class="input">
<div class="prompt input_prompt">In&nbsp;[637]:</div>
<div class="inner_cell">
    <div class="input_area">
<div class=" highlight hl-ipython2"><pre><span></span><span class="c1"># PLot out total donation amounts</span>
<span class="n">cand_amount</span><span class="o">.</span><span class="n">plot</span><span class="p">(</span><span class="n">kind</span><span class="o">=</span><span class="s1">&#39;bar&#39;</span><span class="p">)</span>
</pre></div>

</div>
</div>
</div>

<div class="output_wrapper">
<div class="output">


<div class="output_area"><div class="prompt output_prompt">Out[637]:</div>


<div class="output_text output_subarea output_execute_result">
<pre>&lt;matplotlib.axes._subplots.AxesSubplot at 0xacd06278&gt;</pre>
</div>

</div>

<div class="output_area"><div class="prompt"></div>


<div class="output_png output_subarea ">
<img src="data:image/png;base64,iVBORw0KGgoAAAANSUhEUgAAAXEAAAGRCAYAAACTw4MmAAAABHNCSVQICAgIfAhkiAAAAAlwSFlz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==
"
>
</div>

</div>

</div>
</div>

</div>
<div class="cell border-box-sizing text_cell rendered">
<div class="prompt input_prompt">
</div>
<div class="inner_cell">
<div class="text_cell_render border-box-sizing rendered_html">
<p>Now the comparison is very easy to see. As we saw berfore, clearly Obama is the front-runner in donation amounts, which makes sense, since he is not competeing with any other democratic nominees. How about we just compare Democrat versus Republican donations?</p>

</div>
</div>
</div>
<div class="cell border-box-sizing code_cell rendered">
<div class="input">
<div class="prompt input_prompt">In&nbsp;[638]:</div>
<div class="inner_cell">
    <div class="input_area">
<div class=" highlight hl-ipython2"><pre><span></span><span class="c1"># Groupby party and then count donations</span>
<span class="n">donor_df</span><span class="o">.</span><span class="n">groupby</span><span class="p">(</span><span class="s1">&#39;Party&#39;</span><span class="p">)[</span><span class="s1">&#39;contb_receipt_amt&#39;</span><span class="p">]</span><span class="o">.</span><span class="n">sum</span><span class="p">()</span><span class="o">.</span><span class="n">plot</span><span class="p">(</span><span class="n">kind</span><span class="o">=</span><span class="s1">&#39;bar&#39;</span><span class="p">)</span>
</pre></div>

</div>
</div>
</div>

<div class="output_wrapper">
<div class="output">


<div class="output_area"><div class="prompt output_prompt">Out[638]:</div>


<div class="output_text output_subarea output_execute_result">
<pre>&lt;matplotlib.axes._subplots.AxesSubplot at 0x3a4a8358&gt;</pre>
</div>

</div>

<div class="output_area"><div class="prompt"></div>


<div class="output_png output_subarea ">
<img src="data:image/png;base64,iVBORw0KGgoAAAANSUhEUgAAAXEAAAE+CAYAAAB7iSAdAAAABHNCSVQICAgIfAhkiAAAAAlwSFlz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=
"
>
</div>

</div>

</div>
</div>

</div>
<div class="cell border-box-sizing text_cell rendered">
<div class="prompt input_prompt">
</div>
<div class="inner_cell">
<div class="text_cell_render border-box-sizing rendered_html">
<p>Looks like Obama couldn't compete against all the republicans, but he certainly has the advantage of their funding being splintered across multiple candidates.</p>

</div>
</div>
</div>
<div class="cell border-box-sizing text_cell rendered">
<div class="prompt input_prompt">
</div>
<div class="inner_cell">
<div class="text_cell_render border-box-sizing rendered_html">
<p>Finally to start closing out the project, let's look at donations and who they came from (as far as occupation is concerned). We will start by grabing the occupation information from the dono_df DataFrame and then using pivot_table to make the index defined by the various occupations and then have the columns defined by the Party (Republican or Democrat). FInally we'll also pass an aggregation function in the pivot table, in this case a simple sum function will add up all the comntributions by anyone with the same profession.</p>

</div>
</div>
</div>
<div class="cell border-box-sizing code_cell rendered">
<div class="input">
<div class="prompt input_prompt">In&nbsp;[639]:</div>
<div class="inner_cell">
    <div class="input_area">
<div class=" highlight hl-ipython2"><pre><span></span><span class="c1"># Use a pivot table to extract and organize the data by the donor occupation</span>
<span class="n">occupation_df</span> <span class="o">=</span> <span class="n">donor_df</span><span class="o">.</span><span class="n">pivot_table</span><span class="p">(</span><span class="s1">&#39;contb_receipt_amt&#39;</span><span class="p">,</span>
                                <span class="n">index</span><span class="o">=</span><span class="s1">&#39;contbr_occupation&#39;</span><span class="p">,</span>
                                <span class="n">columns</span><span class="o">=</span><span class="s1">&#39;Party&#39;</span><span class="p">,</span> <span class="n">aggfunc</span><span class="o">=</span><span class="s1">&#39;sum&#39;</span><span class="p">)</span>
</pre></div>

</div>
</div>
</div>

</div>
<div class="cell border-box-sizing code_cell rendered">
<div class="input">
<div class="prompt input_prompt">In&nbsp;[640]:</div>
<div class="inner_cell">
    <div class="input_area">
<div class=" highlight hl-ipython2"><pre><span></span><span class="c1"># Let&#39;s go ahead and check out the DataFrame</span>
<span class="n">occupation_df</span><span class="o">.</span><span class="n">head</span><span class="p">()</span>
</pre></div>

</div>
</div>
</div>

<div class="output_wrapper">
<div class="output">


<div class="output_area"><div class="prompt output_prompt">Out[640]:</div>

<div class="output_html rendered_html output_subarea output_execute_result">
<div style="max-height:1000px;max-width:1500px;overflow:auto;">
<table border="1" class="dataframe">
  <thead>
    <tr style="text-align: right;">
      <th>Party</th>
      <th>Democrat</th>
      <th>Republican</th>
    </tr>
    <tr>
      <th>contbr_occupation</th>
      <th></th>
      <th></th>
    </tr>
  </thead>
  <tbody>
    <tr>
      <th>   MIXED-MEDIA ARTIST / STORYTELLER</th>
      <td>  100</td>
      <td>NaN</td>
    </tr>
    <tr>
      <th> AREA VICE PRESIDENT</th>
      <td>  250</td>
      <td>NaN</td>
    </tr>
    <tr>
      <th> RESEARCH ASSOCIATE</th>
      <td>  100</td>
      <td>NaN</td>
    </tr>
    <tr>
      <th> TEACHER</th>
      <td>  500</td>
      <td>NaN</td>
    </tr>
    <tr>
      <th> THERAPIST</th>
      <td> 3900</td>
      <td>NaN</td>
    </tr>
  </tbody>
</table>
</div>
</div>

</div>

</div>
</div>

</div>
<div class="cell border-box-sizing text_cell rendered">
<div class="prompt input_prompt">
</div>
<div class="inner_cell">
<div class="text_cell_render border-box-sizing rendered_html">
<p>Great! Now let's see how big the DataFrame is.</p>

</div>
</div>
</div>
<div class="cell border-box-sizing code_cell rendered">
<div class="input">
<div class="prompt input_prompt">In&nbsp;[641]:</div>
<div class="inner_cell">
    <div class="input_area">
<div class=" highlight hl-ipython2"><pre><span></span><span class="c1"># Check size</span>
<span class="n">occupation_df</span><span class="o">.</span><span class="n">shape</span>
</pre></div>

</div>
</div>
</div>

<div class="output_wrapper">
<div class="output">


<div class="output_area"><div class="prompt output_prompt">Out[641]:</div>


<div class="output_text output_subarea output_execute_result">
<pre>(45067, 2)</pre>
</div>

</div>

</div>
</div>

</div>
<div class="cell border-box-sizing text_cell rendered">
<div class="prompt input_prompt">
</div>
<div class="inner_cell">
<div class="text_cell_render border-box-sizing rendered_html">
<p>Wow! This is probably far too large to display effectively with a small, static visualization. What we should do is have a cut-off for total contribution amounts. Afterall, small donations of 20 dollars by one type of occupation won't give us too much insight. So let's set our cut off at 1 million dollars.</p>

</div>
</div>
</div>
<div class="cell border-box-sizing code_cell rendered">
<div class="input">
<div class="prompt input_prompt">In&nbsp;[642]:</div>
<div class="inner_cell">
    <div class="input_area">
<div class=" highlight hl-ipython2"><pre><span></span><span class="c1"># Set a cut off point at 1 milllion dollars of sum contributions</span>
<span class="n">occupation_df</span> <span class="o">=</span> <span class="n">occupation_df</span><span class="p">[</span><span class="n">occupation_df</span><span class="o">.</span><span class="n">sum</span><span class="p">(</span><span class="mi">1</span><span class="p">)</span> <span class="o">&gt;</span> <span class="mi">1000000</span><span class="p">]</span>
</pre></div>

</div>
</div>
</div>

</div>
<div class="cell border-box-sizing code_cell rendered">
<div class="input">
<div class="prompt input_prompt">In&nbsp;[643]:</div>
<div class="inner_cell">
    <div class="input_area">
<div class=" highlight hl-ipython2"><pre><span></span><span class="c1"># Now let&#39;s check the size!</span>
<span class="n">occupation_df</span><span class="o">.</span><span class="n">shape</span>
</pre></div>

</div>
</div>
</div>

<div class="output_wrapper">
<div class="output">


<div class="output_area"><div class="prompt output_prompt">Out[643]:</div>


<div class="output_text output_subarea output_execute_result">
<pre>(31, 2)</pre>
</div>

</div>

</div>
</div>

</div>
<div class="cell border-box-sizing text_cell rendered">
<div class="prompt input_prompt">
</div>
<div class="inner_cell">
<div class="text_cell_render border-box-sizing rendered_html">
<p>Great! This looks much more manageable! Now let's visualize it.</p>

</div>
</div>
</div>
<div class="cell border-box-sizing code_cell rendered">
<div class="input">
<div class="prompt input_prompt">In&nbsp;[644]:</div>
<div class="inner_cell">
    <div class="input_area">
<div class=" highlight hl-ipython2"><pre><span></span><span class="c1"># plot out with pandas</span>
<span class="n">occupation_df</span><span class="o">.</span><span class="n">plot</span><span class="p">(</span><span class="n">kind</span><span class="o">=</span><span class="s1">&#39;bar&#39;</span><span class="p">)</span>
</pre></div>

</div>
</div>
</div>

<div class="output_wrapper">
<div class="output">


<div class="output_area"><div class="prompt output_prompt">Out[644]:</div>


<div class="output_text output_subarea output_execute_result">
<pre>&lt;matplotlib.axes._subplots.AxesSubplot at 0xde7771d0&gt;</pre>
</div>

</div>

<div class="output_area"><div class="prompt"></div>


<div class="output_png output_subarea ">
<img src="data:image/png;base64,iVBORw0KGgoAAAANSUhEUgAAAXEAAAH3CAYAAABNbm9hAAAABHNCSVQICAgIfAhkiAAAAAlwSFlz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"
>
</div>

</div>

</div>
</div>

</div>
<div class="cell border-box-sizing text_cell rendered">
<div class="prompt input_prompt">
</div>
<div class="inner_cell">
<div class="text_cell_render border-box-sizing rendered_html">
<p>This is a bit hard to read, so let's use kind = 'barh' (horizontal) to set the ocucpation on the correct axis.</p>

</div>
</div>
</div>
<div class="cell border-box-sizing code_cell rendered">
<div class="input">
<div class="prompt input_prompt">In&nbsp;[645]:</div>
<div class="inner_cell">
    <div class="input_area">
<div class=" highlight hl-ipython2"><pre><span></span><span class="c1"># Horizontal plot, use a convienently colored cmap</span>
<span class="n">occupation_df</span><span class="o">.</span><span class="n">plot</span><span class="p">(</span><span class="n">kind</span><span class="o">=</span><span class="s1">&#39;barh&#39;</span><span class="p">,</span><span class="n">figsize</span><span class="o">=</span><span class="p">(</span><span class="mi">10</span><span class="p">,</span><span class="mi">12</span><span class="p">),</span><span class="n">cmap</span><span class="o">=</span><span class="s1">&#39;seismic&#39;</span><span class="p">)</span>
</pre></div>

</div>
</div>
</div>

<div class="output_wrapper">
<div class="output">


<div class="output_area"><div class="prompt output_prompt">Out[645]:</div>


<div class="output_text output_subarea output_execute_result">
<pre>&lt;matplotlib.axes._subplots.AxesSubplot at 0x466637f0&gt;</pre>
</div>

</div>

<div class="output_area"><div class="prompt"></div>


<div class="output_png output_subarea ">
<img src="data:image/png;base64,iVBORw0KGgoAAAANSUhEUgAAA0IAAALHCAYAAACjVPKrAAAABHNCSVQICAgIfAhkiAAAAAlwSFlz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"
>
</div>

</div>

</div>
</div>

</div>
<div class="cell border-box-sizing text_cell rendered">
<div class="prompt input_prompt">
</div>
<div class="inner_cell">
<div class="text_cell_render border-box-sizing rendered_html">
<p>Looks like there are some occupations that are either mislabeled or aren't really occupations. Let's get rid of: Information Requested occupations and let's combine CEO and C.E.O.</p>

</div>
</div>
</div>
<div class="cell border-box-sizing code_cell rendered">
<div class="input">
<div class="prompt input_prompt">In&nbsp;[646]:</div>
<div class="inner_cell">
    <div class="input_area">
<div class=" highlight hl-ipython2"><pre><span></span><span class="c1"># Drop the unavailble occupations</span>
<span class="n">occupation_df</span><span class="o">.</span><span class="n">drop</span><span class="p">([</span><span class="s1">&#39;INFORMATION REQUESTED PER BEST EFFORTS&#39;</span><span class="p">,</span><span class="s1">&#39;INFORMATION REQUESTED&#39;</span><span class="p">],</span><span class="n">axis</span><span class="o">=</span><span class="mi">0</span><span class="p">,</span><span class="n">inplace</span><span class="o">=</span><span class="bp">True</span><span class="p">)</span>
</pre></div>

</div>
</div>
</div>

</div>
<div class="cell border-box-sizing text_cell rendered">
<div class="prompt input_prompt">
</div>
<div class="inner_cell">
<div class="text_cell_render border-box-sizing rendered_html">
<p>Now let's combine the CEO and C.E.O rows.</p>

</div>
</div>
</div>
<div class="cell border-box-sizing code_cell rendered">
<div class="input">
<div class="prompt input_prompt">In&nbsp;[647]:</div>
<div class="inner_cell">
    <div class="input_area">
<div class=" highlight hl-ipython2"><pre><span></span><span class="c1"># Set new ceo row as sum of the current two</span>
<span class="n">occupation_df</span><span class="o">.</span><span class="n">loc</span><span class="p">[</span><span class="s1">&#39;CEO&#39;</span><span class="p">]</span> <span class="o">=</span> <span class="n">occupation_df</span><span class="o">.</span><span class="n">loc</span><span class="p">[</span><span class="s1">&#39;CEO&#39;</span><span class="p">]</span> <span class="o">+</span> <span class="n">occupation_df</span><span class="o">.</span><span class="n">loc</span><span class="p">[</span><span class="s1">&#39;C.E.O.&#39;</span><span class="p">]</span>
<span class="c1"># Drop CEO</span>
<span class="n">occupation_df</span><span class="o">.</span><span class="n">drop</span><span class="p">(</span><span class="s1">&#39;C.E.O.&#39;</span><span class="p">,</span><span class="n">inplace</span><span class="o">=</span><span class="bp">True</span><span class="p">)</span>
</pre></div>

</div>
</div>
</div>

</div>
<div class="cell border-box-sizing text_cell rendered">
<div class="prompt input_prompt">
</div>
<div class="inner_cell">
<div class="text_cell_render border-box-sizing rendered_html">
<p>Now let's repeat the same plot!</p>

</div>
</div>
</div>
<div class="cell border-box-sizing code_cell rendered">
<div class="input">
<div class="prompt input_prompt">In&nbsp;[648]:</div>
<div class="inner_cell">
    <div class="input_area">
<div class=" highlight hl-ipython2"><pre><span></span><span class="c1"># Repeat previous plot!</span>
<span class="n">occupation_df</span><span class="o">.</span><span class="n">plot</span><span class="p">(</span><span class="n">kind</span><span class="o">=</span><span class="s1">&#39;barh&#39;</span><span class="p">,</span><span class="n">figsize</span><span class="o">=</span><span class="p">(</span><span class="mi">10</span><span class="p">,</span><span class="mi">12</span><span class="p">),</span><span class="n">cmap</span><span class="o">=</span><span class="s1">&#39;seismic&#39;</span><span class="p">)</span>
</pre></div>

</div>
</div>
</div>

<div class="output_wrapper">
<div class="output">


<div class="output_area"><div class="prompt output_prompt">Out[648]:</div>


<div class="output_text output_subarea output_execute_result">
<pre>&lt;matplotlib.axes._subplots.AxesSubplot at 0xd6233358&gt;</pre>
</div>

</div>

<div class="output_area"><div class="prompt"></div>


<div class="output_png output_subarea ">
<img src="data:image/png;base64,iVBORw0KGgoAAAANSUhEUgAAArMAAALHCAYAAACdVMrMAAAABHNCSVQICAgIfAhkiAAAAAlwSFlz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"
>
</div>

</div>

</div>
</div>

</div>
<div class="cell border-box-sizing text_cell rendered">
<div class="prompt input_prompt">
</div>
<div class="inner_cell">
<div class="text_cell_render border-box-sizing rendered_html">
<p>Awesome! Looks like CEOs are a little more conservative leaning, this may be due to the  tax philosphies of each party during the election.</p>

</div>
</div>
</div>
<div class="cell border-box-sizing text_cell rendered">
<div class="prompt input_prompt">
</div>
<div class="inner_cell">
<div class="text_cell_render border-box-sizing rendered_html">
<h3 id="Great-Job!">Great Job!<a class="anchor-link" href="#Great-Job!">&#182;</a></h3><p>There's still so much to discover in these rich datasets! Come up with your own political questions you want answered! Or just play around with different methods of visualizing the data!</p>
<p>For more on general data analysis of politics, I highly suggest the <a href="http://fivethirtyeight.com/politics/">538</a> website!</p>
<p>Again, great job on getting through the course this far! Go ahead and search the web for more data to discover!</p>

</div>
</div>
</div>
<div class="cell border-box-sizing code_cell rendered">
<div class="input">
<div class="prompt input_prompt">In&nbsp;[&nbsp;]:</div>
<div class="inner_cell">
    <div class="input_area">
<div class=" highlight hl-ipython2"><pre><span></span> 
</pre></div>

</div>
</div>
</div>

</div>
 


    </div>
  </div>

  </div>


  
    <footer class="footer hidden-print">
      <div class="container">
        <div class="col-md-4">
          <p>
            This website does not host notebooks, it only renders notebooks
            available on other websites.
          </p>
        </div>

        <div class="col-md-4">
          <p>
            Delivered by <a href="http://www.fastly.com/">Fastly</a>,
            Rendered by <a href="https://developer.rackspace.com/?nbviewer=awesome">Rackspace</a>
          </p>
          <p>
            nbviewer GitHub <a href="https://github.com/jupyter/nbviewer">repository</a>.
          </p>
        </div>

        <div class="col-md-4">
          
  
            
              <p>
                nbviewer version:
                <a href="https://github.com/jupyter/nbviewer/commit/b5359ba07905c50c2021266b08f984d69653f45e">
                  b5359ba
                </a>
              </p>
            
          
  
  <p>
    nbconvert version: <a href="https://github.com/jupyter/nbconvert/releases/tag/4.3.0">
      4.3.0
    </a>
  </p>
  

          
  
  
  <p>
    Rendered
    <span class='date' data-date='Mon, 06 Feb 2017 02:51:21 UTC' title='Mon, 06 Feb 2017 02:51:21 UTC'>(Mon, 06 Feb 2017 02:51:21 UTC)</span>
  </p>
  

        </div>
      </div>
    </footer>
  

  <script src="https://unpkg.com/jupyter-js-widgets@2.0.*/dist/embed.js"></script>
  <script src="/static/components/bootstrap/js/bootstrap.min.js?v=5869c96cc8f19086aee625d670d741f9"></script>
  <script src="/static/components/headroom.js/dist/headroom.min.js?v=b0a311ea668f8e768ea375f4a7abb81c"></script>
  <script src="/static/components/headroom.js/dist/jQuery.headroom.min.js?v=f3a1bae118315d0c234afc74dc6aab71"></script>

  
  
  <script>
    $(function(){ $("#menubar").headroom({
      tolerance: 5,
      offset: 205,
      classes: {
        initial: "animated",
        pinned: "slideInDown",
        unpinned: "slideOutUp"
      }
    })});
  </script>


  <script>
    (function(i,s,o,g,r,a,m){i['GoogleAnalyticsObject']=r;i[r]=i[r]||function(){
      (i[r].q=i[r].q||[]).push(arguments)},i[r].l=1*new Date();a=s.createElement(o),
      m=s.getElementsByTagName(o)[0];a.async=1;a.src=g;m.parentNode.insertBefore(a,m)
    })(window,document,'script','//www.google-analytics.com/analytics.js','ga');
    ga('create', 'UA-38683231-2', 'auto');
    ga('send', 'pageview');
  </script>
  <script>
    require({
        paths: {
          moment: "/static/components/moment/min/moment.min.js?v=89f87298ad94aa1e6b92f42eb66da043"
        }
      }, ["moment"], function(moment){
      var date = $("footer .date"),
        m = moment(new Date(date.data('date'))),
        update = function(){ date.text(m.fromNow()); };
      setInterval(update, 61*1000);
      update();
      var w = $(window).scroll(function(event){
        $("body").toggleClass("scrolled", w.scrollTop() > 0);
      });
    });
  </script>
  <!--NEW RELIC Stop Perf Measurement-->
  
  <!--NEW RELIC End-->
</body>
</html>